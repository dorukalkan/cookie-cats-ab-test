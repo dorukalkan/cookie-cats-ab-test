{
 "cells": [
  {
   "cell_type": "markdown",
   "id": "0",
   "metadata": {},
   "source": [
    "# Cookie Cats Retention A/B Test Analysis\n",
    "\n",
    "---\n"
   ]
  },
  {
   "cell_type": "markdown",
   "id": "1",
   "metadata": {},
   "source": [
    "### Executive summary\n",
    "A/B testing whether moving the first gate from level 30 to level 40 affects retention and engagement.\n",
    "\n",
    "- **Primary metric (Day-7 retention)**  \n",
    "  - Control rate (`gate_30`): 19.02% \n",
    "  - Treatment rate (`gate_40`): 18.20%\n",
    "  - Δ = -0.82 pp with 95% CI [-1.33, -0.31], p-value = 0.0016, relative change = -4.31%, Cohen's _h_ = 0.02\n",
    "- **Decision rule:** Pre-specified MDE = 1.0 pp at α = 0.05.  \n",
    "- **Outcome:** Fail, result is statistically significant but does not meet the MDE threshold (on the contrary, it harms retention). Guardrail results do not indicate significance. \n",
    "\n",
    "**Conclusion:** Based on the pre-specified criteria, the gate move to level 40 **is not recommended** for rollout."
   ]
  },
  {
   "cell_type": "markdown",
   "id": "2",
   "metadata": {},
   "source": [
    "### Project description\n",
    "\n",
    "Cookie Cats is a mobile puzzle game developed by Tactile Entertainment. The game involves \"gates\" that serve as intentional breaks between levels, a system typical to puzzle games that boosts player enjoyment and play duration. In this project I will test whether moving the gate from level 30 to level 40 has a significant effect on player retention at day 7, using retention at day 1 and engagement as guardrail metrics. \n",
    "\n",
    "Dataset is sourced from [Kaggle](https://www.kaggle.com/datasets/mursideyarkin/mobile-games-ab-testing-cookie-cats).\n",
    "\n",
    "`cookie_cats.csv`\n",
    "\n",
    "| column | data type | description | \n",
    "|--------|-----------|-------------|\n",
    "| `userid` | `int` | Unique player ID |\n",
    "| `version` | `str` | Experiment split (``gate_30`` = control, ``gate_40`` = treatment) |\n",
    "| `sum_gamerounds` | `int` | Total rounds per player |\n",
    "| `retention_1` | `bool` | Active 1 day after installing the game |\n",
    "| `retention_7` | `bool` | Active 7 days after installing the game |\n",
    "\n",
    "Each row corresponds to 1 user."
   ]
  },
  {
   "cell_type": "markdown",
   "id": "3",
   "metadata": {},
   "source": [
    "I pre-specified day-7 retention as the primary metric, while specifying day-1 retention and game rounds as guardrails used diagnostically to catch unintended harmful effects.\n",
    "\n",
    "**Primary metric:** Day-7 retention (``retention_7``).  \n",
    "**Test applied:** Two-proportion z-test (α = 0.05, two-sided).  \n",
    "**Power/MDE:** Target 80% power, operational MDE = 1.0 pp.  \n",
    "\n",
    "- **H₀:** Gate move has no effect on D7 retention.\n",
    "- **H₁:** Gate move changes D7 retention.\n",
    "\n",
    "**Guardrails (diagnostic):**\n",
    "- **Day-1 retention (``retention_1``):** z-test (same structure as primary).\n",
    "- **Game rounds (``sum_gamerounds``):** Mann–Whitney U (non-parametric) and Welch's t-test on log-transformed data.\n",
    "  - **H₀:** Distributions are equal across groups.\n",
    "\n",
    "**Multiple testing:** Guardrail p-values corrected based on Holm method.\n",
    "\n",
    "**Decision rule:** Rollout only if\n",
    "- D7 is significant (_p_ < 0.05) AND uplift ≥ 1.0 pp. \n",
    "- Otherwise, fail or flag for review.\n",
    "\n",
    "**Population:** Control (``gate_30``) and treatment (``gate_40``) players\n",
    "\n",
    "**Sanity checks (Sample Ratio Test):**\n",
    "- Chi-square test"
   ]
  },
  {
   "cell_type": "code",
   "execution_count": null,
   "id": "4",
   "metadata": {},
   "outputs": [],
   "source": [
    "# Success criteria\n",
    "primary_metric = \"retention_7\"  # day-7 retention\n",
    "guardrail_metrics = [\n",
    "    \"retention_1\",\n",
    "    \"sum_gamerounds\",\n",
    "]  # day-1 retention and sum of game rounds per player\n",
    "alpha = 0.05  # 5% significance level\n",
    "confidence_level = 1 - alpha  # 95% confidence level\n",
    "power = 0.80  # 80% statistical power\n",
    "mde_pp = 1.0  # pre-specified absolute uplift threshold in percentage points"
   ]
  },
  {
   "cell_type": "markdown",
   "id": "5",
   "metadata": {},
   "source": [
    "### 1. Experiment setup"
   ]
  },
  {
   "cell_type": "code",
   "execution_count": null,
   "id": "6",
   "metadata": {},
   "outputs": [],
   "source": [
    "# Imports\n",
    "from cookiecats.io import load_cookiecats\n",
    "import cookiecats.plots as ccp\n",
    "import cookiecats.stats as ccs\n",
    "from cookiecats.tables import build_results_table"
   ]
  },
  {
   "cell_type": "markdown",
   "id": "7",
   "metadata": {},
   "source": [
    "### 2. Load data & quick inspection"
   ]
  },
  {
   "cell_type": "code",
   "execution_count": null,
   "id": "8",
   "metadata": {},
   "outputs": [],
   "source": [
    "cookie_df = load_cookiecats()\n",
    "cookie_df.head()"
   ]
  },
  {
   "cell_type": "code",
   "execution_count": null,
   "id": "9",
   "metadata": {},
   "outputs": [],
   "source": [
    "cookie_df.info()"
   ]
  },
  {
   "cell_type": "code",
   "execution_count": null,
   "id": "10",
   "metadata": {},
   "outputs": [],
   "source": [
    "cookie_df.groupby(\"version\")[\"userid\"].nunique()"
   ]
  },
  {
   "cell_type": "markdown",
   "id": "11",
   "metadata": {},
   "source": [
    "Experiment split:\n",
    "- Control (`gate_30`): 44,700 players\n",
    "- Treatment (`gate_40`): 45,489 players"
   ]
  },
  {
   "cell_type": "markdown",
   "id": "12",
   "metadata": {},
   "source": [
    "### 3. Data cleaning & sanity checks"
   ]
  },
  {
   "cell_type": "markdown",
   "id": "13",
   "metadata": {},
   "source": [
    "#### 3.1 Type conversions\n",
    "\n",
    "Converting boolean values in retention columns to 1 and 0 for easier calculation."
   ]
  },
  {
   "cell_type": "code",
   "execution_count": null,
   "id": "14",
   "metadata": {},
   "outputs": [],
   "source": [
    "# Convert retention values from boolean to integer\n",
    "cookie_df[[\"retention_1\", \"retention_7\"]] = cookie_df[\n",
    "    [\"retention_1\", \"retention_7\"]\n",
    "].astype(int)\n",
    "cookie_df[[\"retention_1\", \"retention_7\"]].head()"
   ]
  },
  {
   "cell_type": "markdown",
   "id": "15",
   "metadata": {},
   "source": [
    "#### 3.2 Missing values & duplicates"
   ]
  },
  {
   "cell_type": "code",
   "execution_count": null,
   "id": "16",
   "metadata": {},
   "outputs": [],
   "source": [
    "# Missing values per column\n",
    "missing_values = cookie_df.isnull().sum()\n",
    "print(f\"Missing values per column: \\n{missing_values}\")"
   ]
  },
  {
   "cell_type": "code",
   "execution_count": null,
   "id": "17",
   "metadata": {},
   "outputs": [],
   "source": [
    "# Check unique users and duplicates\n",
    "unique_users = cookie_df[\"userid\"].nunique()\n",
    "duplicate_users = cookie_df[cookie_df.duplicated(\"userid\", keep=False)]\n",
    "\n",
    "print(f\"Unique users: {unique_users}\")\n",
    "print(f\"Duplicate users: {duplicate_users['userid'].unique()}\")"
   ]
  },
  {
   "cell_type": "markdown",
   "id": "18",
   "metadata": {},
   "source": [
    "Records correspond to 90,189 unique players, and there are no missing values in any column."
   ]
  },
  {
   "cell_type": "markdown",
   "id": "19",
   "metadata": {},
   "source": [
    "#### 3.3 Outliers\n",
    "\n",
    "Exploring outliers in ``sum_gamerounds`` distribution."
   ]
  },
  {
   "cell_type": "code",
   "execution_count": null,
   "id": "20",
   "metadata": {},
   "outputs": [],
   "source": [
    "# Inspect top players with highest game rounds\n",
    "cookie_df.sort_values(\"sum_gamerounds\", ascending=False).head()"
   ]
  },
  {
   "cell_type": "markdown",
   "id": "21",
   "metadata": {},
   "source": [
    "**Note:** 49,854 game rounds is physically impossible, this value is possibly not a naturally ocurring outlier but due to a data integrity error. The remaining top values are in the 2-3k range, indicating extreme player engagement (within normal constraints). I decided to remove the 50k row and use the filtered dataset (``plot_df``) only for the relevant plots on engagement so that they are better interpretable. The sanity checks and tests use the main dataset (``cookiecats_df``) and thus remain unaffected by this action."
   ]
  },
  {
   "cell_type": "code",
   "execution_count": null,
   "id": "22",
   "metadata": {},
   "outputs": [],
   "source": [
    "# Drop the anomalous value\n",
    "plot_df = cookie_df[cookie_df[\"sum_gamerounds\"] < 3000].copy()\n",
    "plot_df.sort_values(\"sum_gamerounds\", ascending=False).head()"
   ]
  },
  {
   "cell_type": "markdown",
   "id": "23",
   "metadata": {},
   "source": [
    "#### 3.5 Assignment counts & Sample Ratio Test\n",
    "\n",
    "Conduct a sanity check for sample ratio mismatch (SRM) between versions ``gate_30`` (control group) and ``gate_40`` (treatment group)."
   ]
  },
  {
   "cell_type": "code",
   "execution_count": null,
   "id": "24",
   "metadata": {},
   "outputs": [],
   "source": [
    "# Assign unique player counts to variables\n",
    "control_players = cookie_df[cookie_df[\"version\"] == \"gate_30\"][\"userid\"].nunique()\n",
    "treatment_players = cookie_df[cookie_df[\"version\"] == \"gate_40\"][\"userid\"].nunique()\n",
    "\n",
    "# Implement chi-square test for SRM\n",
    "srm_result = ccs.test_srm_chi2(control_players, treatment_players)\n",
    "\n",
    "# Print SRM results\n",
    "print(f\"SRM (chi-square) p = {srm_result[0]:6f}\")\n",
    "print(\n",
    "    f\"Allocation ratio: control = {control_players} ({srm_result[1]:.2%}), treatment = {treatment_players} ({srm_result[2]:.2%})\"\n",
    ")\n",
    "\n",
    "if srm_result[0] < 0.001:\n",
    "    print(\"Strong SRM indication\")\n",
    "else:\n",
    "    print(\"No strong SRM indication\")"
   ]
  },
  {
   "cell_type": "markdown",
   "id": "25",
   "metadata": {},
   "source": [
    "### 4. Exploratory data analysis (EDA)"
   ]
  },
  {
   "cell_type": "markdown",
   "id": "26",
   "metadata": {},
   "source": [
    "#### 4.1 Summary statistics\n",
    "\n",
    "Mean, count, and standard deviation summary"
   ]
  },
  {
   "cell_type": "code",
   "execution_count": null,
   "id": "27",
   "metadata": {},
   "outputs": [],
   "source": [
    "# Retention summary statistics\n",
    "cookie_df.groupby(\"version\")[[\"retention_1\", \"retention_7\"]].agg(\n",
    "    [\"mean\", \"std\", \"count\"]\n",
    ")"
   ]
  },
  {
   "cell_type": "code",
   "execution_count": null,
   "id": "28",
   "metadata": {},
   "outputs": [],
   "source": [
    "# Game rounds summary statistics\n",
    "agg = cookie_df.groupby(\"version\").agg(\n",
    "    mean=(\"sum_gamerounds\", \"mean\"),\n",
    "    std=(\"sum_gamerounds\", \"std\"),\n",
    "    count=(\"sum_gamerounds\", \"count\"),\n",
    ")\n",
    "\n",
    "agg[[\"mean\", \"std\"]] = agg[[\"mean\", \"std\"]].round(2)\n",
    "agg[\"count\"] = agg[\"count\"].astype(int)\n",
    "agg"
   ]
  },
  {
   "cell_type": "markdown",
   "id": "29",
   "metadata": {},
   "source": [
    "#### 4.2 Assignment bar plot"
   ]
  },
  {
   "cell_type": "code",
   "execution_count": null,
   "id": "30",
   "metadata": {},
   "outputs": [],
   "source": [
    "# Plot assignment counts by version\n",
    "ccp.plot_assignment_counts(cookie_df)"
   ]
  },
  {
   "cell_type": "markdown",
   "id": "31",
   "metadata": {},
   "source": [
    "#### 4.3 Retention rates (day-1 and day-7) with 95% CI"
   ]
  },
  {
   "cell_type": "code",
   "execution_count": null,
   "id": "32",
   "metadata": {},
   "outputs": [],
   "source": [
    "# Plot retention rates by version with 95% CI\n",
    "ccp.plot_retention_rates(cookie_df)"
   ]
  },
  {
   "cell_type": "markdown",
   "id": "33",
   "metadata": {},
   "source": [
    "#### 4.4 Game rounds distribution"
   ]
  },
  {
   "cell_type": "code",
   "execution_count": null,
   "id": "34",
   "metadata": {},
   "outputs": [],
   "source": [
    "# Inspect game rounds distribution\n",
    "percentiles = cookie_df[\"sum_gamerounds\"].describe(\n",
    "    percentiles=[0.5, 0.9, 0.95, 0.99, 0.999]\n",
    ")\n",
    "print(percentiles)\n",
    "# IQR method\n",
    "Q1 = cookie_df[\"sum_gamerounds\"].quantile(0.25)\n",
    "Q3 = cookie_df[\"sum_gamerounds\"].quantile(0.75)\n",
    "IQR = Q3 - Q1\n",
    "lower_bound = Q1 - 1.5 * IQR\n",
    "upper_bound = Q3 + 1.5 * IQR\n",
    "\n",
    "# Check outliers\n",
    "outliers = cookie_df[\n",
    "    (cookie_df[\"sum_gamerounds\"] < lower_bound)\n",
    "    | (cookie_df[\"sum_gamerounds\"] > upper_bound)\n",
    "]\n",
    "print(\n",
    "    f\"Outliers detected: {len(outliers)} rows ({len(outliers) / len(cookie_df):.2%} of dataset)\"\n",
    ")"
   ]
  },
  {
   "cell_type": "markdown",
   "id": "35",
   "metadata": {},
   "source": [
    "Percentiles of 90k unique players display that:\n",
    "- Player activity is heavily skewed. Half of new players complete less than 16 rounds (median), but a small group plays hundreds to several thousands.\n",
    "- The right tail lifts the average to 52 rounds, with an ~11% of outliers signaling high engagement."
   ]
  },
  {
   "cell_type": "code",
   "execution_count": null,
   "id": "36",
   "metadata": {},
   "outputs": [],
   "source": [
    "# Plot the distribution of game rounds by version\n",
    "ccp.plot_game_rounds(plot_df, lower_bound=lower_bound, upper_bound=upper_bound)"
   ]
  },
  {
   "cell_type": "markdown",
   "id": "37",
   "metadata": {},
   "source": [
    "On the raw scale, heavy skew disrupts the visuals. Transforming game rounds into log scale is useful for normalizing distribution."
   ]
  },
  {
   "cell_type": "code",
   "execution_count": null,
   "id": "38",
   "metadata": {},
   "outputs": [],
   "source": [
    "# Plot the log-transformed distribution of game rounds by version\n",
    "ccp.plot_game_rounds(plot_df, lower_bound=lower_bound, upper_bound=upper_bound, log=True)"
   ]
  },
  {
   "cell_type": "code",
   "execution_count": null,
   "id": "39",
   "metadata": {},
   "outputs": [],
   "source": [
    "# Plot histogram for player count - game rounds distribution\n",
    "ccp.plot_game_rounds_dist(plot_df)"
   ]
  },
  {
   "cell_type": "markdown",
   "id": "40",
   "metadata": {},
   "source": [
    "~99% of players complete less than 500 rounds. The skew is so heavy that the right tail of the histogram is not visible on the raw scale plot. "
   ]
  },
  {
   "cell_type": "code",
   "execution_count": null,
   "id": "41",
   "metadata": {},
   "outputs": [],
   "source": [
    "# Plot log-transformed histogram for player count - game rounds distribution\n",
    "ccp.plot_game_rounds_dist(plot_df, log=True)"
   ]
  },
  {
   "cell_type": "markdown",
   "id": "42",
   "metadata": {},
   "source": [
    "Log-transformation shrinks the extreme values so the distribution looks more normal, though it is still skewed to the right."
   ]
  },
  {
   "cell_type": "markdown",
   "id": "43",
   "metadata": {},
   "source": [
    "### 5. Power analysis & MDE exploration"
   ]
  },
  {
   "cell_type": "markdown",
   "id": "44",
   "metadata": {},
   "source": [
    "**Minimum Detectable Effect at current sample size**\n",
    "\n",
    "The experiment pre-specified a target MDE of 1.0 pp at 80% power and 5% alpha. Current sample size should be checked to ensure the experiment can achieve it."
   ]
  },
  {
   "cell_type": "code",
   "execution_count": null,
   "id": "45",
   "metadata": {},
   "outputs": [],
   "source": [
    "# Baseline p0 (control group day-7 retention)\n",
    "p0 = cookie_df[cookie_df[\"version\"] == \"gate_30\"][\"retention_7\"].mean()\n",
    "\n",
    "mde_result = ccs.solve_mde(\n",
    "    cookie_df,\n",
    "    alpha=alpha,\n",
    "    power=power,\n",
    "    p0=p0\n",
    ")\n",
    "\n",
    "print(\n",
    "    f\"MDE at current N ({mde_result[0]}) (80% power, two-sided alpha=0.05): {mde_result[1]:.4f} pp\"\n",
    ")"
   ]
  },
  {
   "cell_type": "markdown",
   "id": "46",
   "metadata": {},
   "source": [
    "At the current sample size (44,700), any true effect ≥ 0.74 pp can be detected with 80% power. The experiment is over-powered and detects a smaller effect than the designated MDE."
   ]
  },
  {
   "cell_type": "markdown",
   "id": "47",
   "metadata": {},
   "source": [
    "Required samples sizes per group for target MDEs"
   ]
  },
  {
   "cell_type": "code",
   "execution_count": null,
   "id": "48",
   "metadata": {},
   "outputs": [],
   "source": [
    "required_n_result = ccs.solve_required_n(\n",
    "    alpha=alpha,\n",
    "    power=power,\n",
    "    p0=p0\n",
    ")\n",
    "\n",
    "required_n_result"
   ]
  },
  {
   "cell_type": "markdown",
   "id": "49",
   "metadata": {},
   "source": [
    "Power vs. MDE plot"
   ]
  },
  {
   "cell_type": "code",
   "execution_count": null,
   "id": "50",
   "metadata": {},
   "outputs": [],
   "source": [
    "ccp.plot_power_vs_mde(\n",
    "    p0=p0,\n",
    "    nob=mde_result[0],\n",
    "    alpha=alpha,\n",
    "    mde_pp_current=mde_result[1]\n",
    ")"
   ]
  },
  {
   "cell_type": "markdown",
   "id": "51",
   "metadata": {},
   "source": [
    "The curve crosses 80% power near the computed MDE (0.74 pp) at the current sample size."
   ]
  },
  {
   "cell_type": "markdown",
   "id": "52",
   "metadata": {},
   "source": [
    "MDE vs. N per group plot (balanced at 80% power)"
   ]
  },
  {
   "cell_type": "code",
   "execution_count": null,
   "id": "53",
   "metadata": {},
   "outputs": [],
   "source": [
    "ccp.plot_mde_vs_sample(\n",
    "    p0=p0,\n",
    "    alpha=alpha,\n",
    "    power=power,\n",
    "    n=mde_result[0],\n",
    "    mde_pp_current=mde_result[1]\n",
    ")"
   ]
  },
  {
   "cell_type": "markdown",
   "id": "54",
   "metadata": {},
   "source": [
    "MDE targets achievable at the required sample sizes"
   ]
  },
  {
   "cell_type": "markdown",
   "id": "55",
   "metadata": {},
   "source": [
    "#### Interpretation\n",
    "\n",
    "While the experiment design aims for 80% power with 1.0 pp MDE, at the current sample size the experiment can detect a more sensitive MDE of 0.74 pp."
   ]
  },
  {
   "cell_type": "markdown",
   "id": "56",
   "metadata": {},
   "source": [
    "### 6. Primary metric analysis: day-7 retention"
   ]
  },
  {
   "cell_type": "code",
   "execution_count": null,
   "id": "57",
   "metadata": {},
   "outputs": [],
   "source": [
    "ret7_results = ccs.test_two_prop_z(\n",
    "    df=cookie_df,\n",
    "    ctrl=control_players,\n",
    "    treat=treatment_players,\n",
    "    col=\"retention_7\",\n",
    "    alpha=alpha,\n",
    "    p0=p0\n",
    ")\n",
    "\n",
    "# Print day-7 retention test results\n",
    "print(f\"gate_30 size: {control_players}\")\n",
    "print(f\"gate_40 size: {treatment_players}\")\n",
    "print(\n",
    "    f\"Control group (gate_30) day-7 retention rate: {ret7_results[0]:.6f} (95% CI [{ret7_results[1]:.6f}, {ret7_results[2]:.6f}])\"\n",
    ")\n",
    "print(\n",
    "    f\"Treatment group (gate_40) day-7 retention rate: {ret7_results[3]:.6f} (95% CI [{ret7_results[4]:.6f}, {ret7_results[5]:.6f}])\"\n",
    ")\n",
    "print(f\"z = {ret7_results[6]:.6f}, p-value = {ret7_results[7]:.6f}\")\n",
    "print(\n",
    "    f\"Absolute difference: {ret7_results[8]:.6f} pp (95% CI [{ret7_results[9] * 100:.3f}, {ret7_results[10] * 100:.3f}] pp)\"\n",
    ")\n",
    "print(f\"Relative difference: {ret7_results[11]:.2f}%\")\n",
    "print(f\"Effect size (Cohen's h): {ret7_results[12]:.6f}\")"
   ]
  },
  {
   "cell_type": "markdown",
   "id": "58",
   "metadata": {},
   "source": [
    "#### Interpretation\n",
    "\n",
    "_p_ < 0.05 indicates statistical significance, meaning that there is indeed a difference between gate level versions. The effect is -0.82 pp, which is lower than the pre-specified MDE of 1.0 pp, but Cohen's _h_ = 0.02 indicates a small effect size. More clearly, the treatment (``gate_40``) hurts retention relative to control (``gate_30``), albeit in a negligible magnitude."
   ]
  },
  {
   "cell_type": "markdown",
   "id": "59",
   "metadata": {},
   "source": [
    "### 7. Guardrail metrics analyses: day-1 retention & game rounds"
   ]
  },
  {
   "cell_type": "markdown",
   "id": "60",
   "metadata": {},
   "source": [
    "#### 7.1 Day-1 retention"
   ]
  },
  {
   "cell_type": "code",
   "execution_count": null,
   "id": "61",
   "metadata": {},
   "outputs": [],
   "source": [
    "ret1_results = ccs.test_two_prop_z(\n",
    "    df=cookie_df,\n",
    "    ctrl=control_players,\n",
    "    treat=treatment_players,\n",
    "    col=\"retention_1\",\n",
    "    alpha=alpha,\n",
    "    p0=p0\n",
    ")\n",
    "\n",
    "# Print day-1 retention test results\n",
    "print(f\"gate_30 size: {control_players}\")\n",
    "print(f\"gate_40 size: {treatment_players}\")\n",
    "print(\n",
    "    f\"Control group (gate_30) day-1 retention rate: {ret1_results[0]:.6f} (95% CI [{ret1_results[1]:.6f}, {ret1_results[2]:.6f}])\"\n",
    ")\n",
    "print(\n",
    "    f\"Treatment group (gate_40) day-1 retention rate: {ret1_results[3]:.6f} (95% CI [{ret1_results[4]:.6f}, {ret1_results[5]:.6f}])\"\n",
    ")\n",
    "print(f\"z = {ret1_results[6]:.6f}, p-value = {ret1_results[7]:.6f}\")\n",
    "print(\n",
    "    f\"Absolute difference: {ret1_results[8]:.6f} pp (95% CI [{ret1_results[9] * 100:.3f}, {ret1_results[10] * 100:.3f}] pp)\"\n",
    ")\n",
    "print(f\"Relative difference: {ret1_results[11]:.2f}%\")\n",
    "print(f\"Effect size (Cohen's h): {ret1_results[12]:.6f}\")"
   ]
  },
  {
   "cell_type": "markdown",
   "id": "62",
   "metadata": {},
   "source": [
    "##### Interpretation\n",
    "\n",
    "Indicated by a large _p_ = 0.074410, there may be no statistically significant difference between experiment groups in day-1 retention."
   ]
  },
  {
   "cell_type": "markdown",
   "id": "63",
   "metadata": {},
   "source": [
    "#### 7.2 Game rounds\n",
    "\n",
    "Heavy-tailed game rounds data is not appropriate for tests that assume normality. Instead, non-parametrics tests or log-transforming the data should be preferred."
   ]
  },
  {
   "cell_type": "code",
   "execution_count": null,
   "id": "64",
   "metadata": {},
   "outputs": [],
   "source": [
    "# Engagement stats and Mann-Whitney U test results\n",
    "engagement_stats = ccs.calculate_engagement_stats(cookie_df)\n",
    "rounds_results = ccs.test_game_rounds(engagement_stats)\n",
    "\n",
    "print(f\"Control (gate_30) mean: {engagement_stats[2]:.2f}, median: {engagement_stats[3]:.2f}\")\n",
    "print(f\"Treatment (gate_40) mean: {engagement_stats[4]:.2f}, median: {engagement_stats[5]:.2f}\")\n",
    "print(f\"Mann-Whitney U statistic: {rounds_results[0]:.0f}, p-value: {rounds_results[1]:.6f}\")\n",
    "print(f\"Absoulute difference in mean game rounds: {engagement_stats[6]:.2f}\")"
   ]
  },
  {
   "cell_type": "code",
   "execution_count": null,
   "id": "65",
   "metadata": {},
   "outputs": [],
   "source": [
    "# Welch's t-test results\n",
    "print(\n",
    "    f\"Welch's t-test on log-transformed rounds t-statistic = {rounds_results[2]:6f}, p-value = {rounds_results[3]:6f}\"\n",
    ")\n",
    "print(f\"Control (gate_30) log mean = {engagement_stats[7].mean():6f}\")\n",
    "print(f\"Treatment (gate_40) log mean = {engagement_stats[8].mean():6f}\")"
   ]
  },
  {
   "cell_type": "markdown",
   "id": "66",
   "metadata": {},
   "source": [
    "Bootstrap 95% CI for mean difference"
   ]
  },
  {
   "cell_type": "code",
   "execution_count": null,
   "id": "67",
   "metadata": {},
   "outputs": [],
   "source": [
    "# Bootstrap results for mean difference in game rounds\n",
    "bootstrap_result = ccs.bootstrap_mean_diff(rounds_ctrl=engagement_stats[0], rounds_treat=engagement_stats[1])\n",
    "\n",
    "print(f\"Mean difference: {bootstrap_result[0]:.2f}\")\n",
    "print(f\"Bootstrap 95% CI for mean difference: [{bootstrap_result[1]:.2f}, {bootstrap_result[2]:.2f}]\")"
   ]
  },
  {
   "cell_type": "markdown",
   "id": "68",
   "metadata": {},
   "source": [
    "##### Interpretation\n",
    "\n",
    "Across all three methods (MWU, Welch t, bootstrap CI), results consistently demonstrate:\n",
    "- No significant difference between ``gate_30`` and ``gate_40`` in game rounds played.\n",
    "- Effect size is negligible in practice (less than 1–2 rounds out of ~50 average).\n",
    "\n",
    "In other words, changing the gate does not affect overall engagement measured by total rounds played."
   ]
  },
  {
   "cell_type": "markdown",
   "id": "69",
   "metadata": {},
   "source": [
    "### 8. Multiple testing correction"
   ]
  },
  {
   "cell_type": "code",
   "execution_count": null,
   "id": "70",
   "metadata": {},
   "outputs": [],
   "source": [
    "# Adjust guardrail p-values using Holm correction\n",
    "guardrail_adj = ccs.correct_pvals(ret1_results[7], rounds_results[1], rounds_results[3], alpha=alpha)\n",
    "print(f\"Significant tests: {guardrail_adj[0]}\")\n",
    "print(f\"Corrected p-values: {guardrail_adj[1]}\")"
   ]
  },
  {
   "cell_type": "markdown",
   "id": "71",
   "metadata": {},
   "source": [
    "Adjusted _p_ = 0.15062642 for the guardrails indicate that the results are statistically insignificant, in other words the difference between control and treatment groups is not meaningful for day-1 retention rate and game rounds. "
   ]
  },
  {
   "cell_type": "markdown",
   "id": "72",
   "metadata": {},
   "source": [
    "### 9. Results summary table"
   ]
  },
  {
   "cell_type": "code",
   "execution_count": null,
   "id": "73",
   "metadata": {},
   "outputs": [],
   "source": [
    "results_table = build_results_table(\n",
    "    ret1_results=ret1_results,\n",
    "    ret7_results=ret7_results,\n",
    "    rounds_results=rounds_results,\n",
    "    bootstrap_result=bootstrap_result,\n",
    "    guardrail_adj=guardrail_adj,\n",
    "    engagement_stats=engagement_stats,\n",
    "    alpha=alpha\n",
    ")\n",
    "\n",
    "results_table"
   ]
  },
  {
   "cell_type": "code",
   "execution_count": null,
   "id": "74",
   "metadata": {},
   "outputs": [],
   "source": [
    "def decide(pval, delta, mde_pp, alpha):\n",
    "    if pval < alpha:\n",
    "        if delta >= mde_pp:\n",
    "            return \"Roll out\"\n",
    "        if delta <= -mde_pp:\n",
    "            return \"Do not roll out, treatment harmful beyond MDE\"\n",
    "        return \"Significant but below MDE, do not roll out\"\n",
    "    return \"No effect, do not roll out.\"\n",
    "\n",
    "\n",
    "print(\"Decision:\", decide(pval=ret7_results[7], delta=ret7_results[7], mde_pp=mde_result[1], alpha=alpha))"
   ]
  },
  {
   "cell_type": "markdown",
   "id": "75",
   "metadata": {},
   "source": [
    "### 10. Business impact projection"
   ]
  },
  {
   "cell_type": "code",
   "execution_count": null,
   "id": "76",
   "metadata": {},
   "outputs": [],
   "source": [
    "# Calculate the number of retained players at Day-7 per 100,000 new players\n",
    "def calculate_impact(ret7_results, K, ARPU_7):\n",
    "    # Calculate the number of retained players at Day-7 per K new players\n",
    "    retained_players = K * (ret7_results[3] - ret7_results[0])\n",
    "    \n",
    "    # Calculate the approximate revenue impact per K new players\n",
    "    revenue_impact = retained_players * ARPU_7\n",
    "    \n",
    "    # Calculate the confidence interval for the difference per K retained players\n",
    "    delta_ci = (K * ret7_results[9], K * ret7_results[10])\n",
    "\n",
    "    return retained_players, revenue_impact, delta_ci\n",
    "\n",
    "K = 100_000\n",
    "ARPU_7 = 0.50\n",
    "business_projection = calculate_impact(ret7_results, K=K, ARPU_7=ARPU_7)\n",
    "print(\n",
    "    f\"Retained players at Day-7 per {K:,} new players: {business_projection[0]:.0f} [{business_projection[2][0]:.0f}, {business_projection[2][1]:.0f}]\"\n",
    ")\n",
    "\n",
    "# Calculate the approximate revenue impact per 100,000 new players\n",
    "print(f\"Approximate revenue impact per {K:,} players: ${business_projection[1]:.0f}\")"
   ]
  },
  {
   "cell_type": "markdown",
   "id": "77",
   "metadata": {},
   "source": [
    "Per 100k installs, the test result indicates **820 fewer players** retained by day 7, with the true impact likely between 312 and 1328 fewer players (95% confidence). Assuming an ARPU of $0.50 a month, that means **~$410  monthly revenue loss** per 100k installs."
   ]
  },
  {
   "cell_type": "markdown",
   "id": "78",
   "metadata": {},
   "source": [
    "### 11. Conclusion\n",
    "- **Primary Metric**: Moving the gate from level 30 to level 40 **reduces Day-7 retention by 0.82 percentage points**\n",
    "- **Statistical Significance**: Highly significant (p = 0.0016)\n",
    "- **Effect**: Below the pre-specified MDE threshold of 1.0 percentage points\n",
    "\n",
    "**Decision:**\n",
    "**Do not roll out** the treatment. While the effect is statistically significant, it fails to meet the business threshold for implementation and actually harms retention."
   ]
  },
  {
   "cell_type": "markdown",
   "id": "79",
   "metadata": {},
   "source": [
    "#### 11.1 Limitations & next steps\n",
    "\n",
    "- **No timestamps in dataset:** cannot perform time-to-event analysis.\n",
    "- **No covariates:** cannot adjust for potential confounding or run subgroup analysis.\n",
    "- **No exposure flag:** results are population estimates, effect may be diluted if many users never reach the gate.\n",
    "- **No revenue data:** business-impact projection is illustrative and requires real ARPU values."
   ]
  },
  {
   "cell_type": "code",
   "execution_count": null,
   "id": "80",
   "metadata": {},
   "outputs": [],
   "source": [
    "# Save the results table to CSV\n",
    "# results_table.to_csv(r\"reports/results_table.csv\", index=False)"
   ]
  }
 ],
 "metadata": {
  "kernelspec": {
   "display_name": ".venv",
   "language": "python",
   "name": "python3"
  },
  "language_info": {
   "codemirror_mode": {
    "name": "ipython",
    "version": 3
   },
   "file_extension": ".py",
   "mimetype": "text/x-python",
   "name": "python",
   "nbconvert_exporter": "python",
   "pygments_lexer": "ipython3",
   "version": "3.11.3"
  }
 },
 "nbformat": 4,
 "nbformat_minor": 5
}
