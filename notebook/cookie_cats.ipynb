{
 "cells": [
  {
   "cell_type": "markdown",
   "id": "43392e83",
   "metadata": {},
   "source": [
    "# Cookie Cats Retention A/B Test Analysis\n",
    "\n",
    "---\n"
   ]
  },
  {
   "cell_type": "markdown",
   "id": "a7138e3a",
   "metadata": {},
   "source": [
    "### Executive summary\n",
    "A/B testing whether moving the first gate from level 30 to level 40 affects retention and engagement.\n",
    "\n",
    "- **Primary metric (Day-7 retention)**  \n",
    "  - Control rate (`gate_30`): 19.02% \n",
    "  - Treatment rate (`gate_40`): 18.20%\n",
    "  - Δ = -0.82 pp with 95% CI [-1.33, -0.31], p-value = 0.0016, relative change = -4.31%\n",
    "- **Decision rule:** Pre-specified MDE = 1.0 pp at α = 0.05.  \n",
    "- **Outcome:** Fail, result is statistically significant but does not meet the MDE threshold (on the contrary, it harms retention).   \n",
    "\n",
    "**Conclusion:** Based on the pre-specified criteria, the gate move to level 40 **is not recommended** for rollout."
   ]
  },
  {
   "cell_type": "code",
   "execution_count": 42,
   "id": "17166824",
   "metadata": {},
   "outputs": [],
   "source": [
    "# Executive Summary\n",
    "# Uncomment and run this cell lastly, after running all cells below\n",
    "\n",
    "# exec_summary = (\n",
    "#    f\"gate_30: {prop_ctrl_ret7:.2%} (95% CI [{ci_ctrl_low_ret7:.2%}, {ci_ctrl_high_ret7:.2%}])\\n\"\n",
    "#    f\"gate_40: {prop_treat_ret7:.2%} (95% CI [{ci_treat_low_ret7:.2%}, {ci_treat_high_ret7:.2%}])\\n\"\n",
    "#    f\"Delta at day 7: {delta_pp_ret7:.2f} pp (95% CI [{ci_low_delta7*100:.2f}, {ci_high_delta7*100:.2f}] pp), \"\n",
    "#    f\"p={pval_ret7:.4f}, relative {rel_pct_ret7:.2f}%\\n\"\n",
    "#    f\"Decision: {decide(pval_ret7, delta_pp_ret7, mde_pp, alpha)}\"\n",
    "# )\n",
    "# print(exec_summary)"
   ]
  },
  {
   "cell_type": "markdown",
   "id": "bd94fcb9",
   "metadata": {},
   "source": [
    "### Project description\n",
    "\n",
    "Cookie Cats is a mobile puzzle game developed by Tactile Entertainment. The game involves \"gates\" that serve as intentional breaks between levels, a system typical to puzzle games that boosts player enjoyment and play duration. In this project I will test whether moving the gate from level 30 to level 40 has a significant effect on player retention at day 7, using retention at day 1 and engagement as guardrail metrics. \n",
    "\n",
    "Dataset is sourced from [Kaggle](https://www.kaggle.com/datasets/mursideyarkin/mobile-games-ab-testing-cookie-cats).\n",
    "\n",
    "`cookie_cats.csv`\n",
    "\n",
    "| column | data type | description | \n",
    "|--------|-----------|-------------|\n",
    "| `userid` | `int` | Unique player ID |\n",
    "| `version` | `str` | Experiment split (``gate_30`` = control, ``gate_40`` = treatment) |\n",
    "| `sum_gamerounds` | `int` | Total rounds per player |\n",
    "| `retention_1` | `bool` | Active 1 day after installing the game |\n",
    "| `retention_7` | `bool` | Active 7 days after installing the game |\n",
    "\n",
    "Each row corresponds to 1 user."
   ]
  },
  {
   "cell_type": "markdown",
   "id": "3878f7cb",
   "metadata": {},
   "source": [
    "I pre-specified day-7 retention as the primary metric, while specifying day-1 retention and game rounds as guardrails used diagnostically to catch unintended harmful effects.\n",
    "\n",
    "**Primary metric:** Day-7 retention (``retention_7``).  \n",
    "**Test applied:** Two-proportion z-test (α = 0.05, two-sided).  \n",
    "**Power/MDE:** Target 80% power, operational MDE = 1.0 pp.  \n",
    "\n",
    "- **H₀:** Gate move has no effect on D7 retention.\n",
    "- **H₁:** Gate move changes D7 retention.\n",
    "\n",
    "**Guardrails (diagnostic):**\n",
    "- **Day-1 retention (``retention_1``):** z-test (same structure as primary).\n",
    "- **Game rounds (``sum_gamerounds``):** Mann–Whitney U (non-parametric) and Welch's t-test on log-transformed data.\n",
    "  - **H₀:** distributions are equal across groups.\n",
    "\n",
    "**Multiple testing:** guardrail p-values corrected based on Holm method.\n",
    "\n",
    "**Decision rule:** rollout only if\n",
    "- D7 is significant (p < 0.05) AND uplift ≥ 1.0 pp. \n",
    "- Otherwise, fail or flag for review.\n",
    "\n",
    "**Population:** Intention-to-treat (ITT).\n",
    "\n",
    "**Sanity checks (Sample Ratio Test):**\n",
    "- Chi-square test\n",
    "- Exact binomial test"
   ]
  },
  {
   "cell_type": "code",
   "execution_count": 43,
   "id": "ab9c1a05",
   "metadata": {},
   "outputs": [],
   "source": [
    "# Success criteria\n",
    "primary_metric = \"retention_7\"  # day-7 retention\n",
    "guardrail_metrics = [\n",
    "    \"retention_1\",\n",
    "    \"sum_gamerounds\",\n",
    "]  # day-1 retention and sum of game rounds per player\n",
    "alpha = 0.05  # 5% significance level\n",
    "confidence_level = 1 - alpha  # 95% confidence level\n",
    "power = 0.80  # 80% statistical power\n",
    "mde_pp = 1.0  # pre-specified absolute uplift threshold in percentage points"
   ]
  },
  {
   "cell_type": "markdown",
   "id": "5335db40",
   "metadata": {},
   "source": [
    "### 1. Experiment setup"
   ]
  },
  {
   "cell_type": "code",
   "execution_count": 44,
   "id": "d1d33457",
   "metadata": {},
   "outputs": [],
   "source": [
    "# Imports\n",
    "import math\n",
    "\n",
    "import matplotlib.pyplot as plt\n",
    "import matplotlib.ticker as mtick\n",
    "import numpy as np\n",
    "import pandas as pd\n",
    "import seaborn as sns\n",
    "from scipy.stats import binomtest, chisquare, mannwhitneyu, ttest_ind\n",
    "from statsmodels.stats.multitest import multipletests\n",
    "from statsmodels.stats.power import NormalIndPower\n",
    "from statsmodels.stats.proportion import (\n",
    "    confint_proportions_2indep,\n",
    "    proportion_confint,\n",
    "    proportion_effectsize,\n",
    "    proportions_ztest,\n",
    ")"
   ]
  },
  {
   "cell_type": "markdown",
   "id": "2975707d",
   "metadata": {},
   "source": [
    "### 2. Load data & quick inspection"
   ]
  },
  {
   "cell_type": "code",
   "execution_count": 45,
   "id": "efec20e2",
   "metadata": {},
   "outputs": [
    {
     "data": {
      "text/html": [
       "<div>\n",
       "<style scoped>\n",
       "    .dataframe tbody tr th:only-of-type {\n",
       "        vertical-align: middle;\n",
       "    }\n",
       "\n",
       "    .dataframe tbody tr th {\n",
       "        vertical-align: top;\n",
       "    }\n",
       "\n",
       "    .dataframe thead th {\n",
       "        text-align: right;\n",
       "    }\n",
       "</style>\n",
       "<table border=\"1\" class=\"dataframe\">\n",
       "  <thead>\n",
       "    <tr style=\"text-align: right;\">\n",
       "      <th></th>\n",
       "      <th>userid</th>\n",
       "      <th>version</th>\n",
       "      <th>sum_gamerounds</th>\n",
       "      <th>retention_1</th>\n",
       "      <th>retention_7</th>\n",
       "    </tr>\n",
       "  </thead>\n",
       "  <tbody>\n",
       "    <tr>\n",
       "      <th>0</th>\n",
       "      <td>116</td>\n",
       "      <td>gate_30</td>\n",
       "      <td>3</td>\n",
       "      <td>False</td>\n",
       "      <td>False</td>\n",
       "    </tr>\n",
       "    <tr>\n",
       "      <th>1</th>\n",
       "      <td>337</td>\n",
       "      <td>gate_30</td>\n",
       "      <td>38</td>\n",
       "      <td>True</td>\n",
       "      <td>False</td>\n",
       "    </tr>\n",
       "    <tr>\n",
       "      <th>2</th>\n",
       "      <td>377</td>\n",
       "      <td>gate_40</td>\n",
       "      <td>165</td>\n",
       "      <td>True</td>\n",
       "      <td>False</td>\n",
       "    </tr>\n",
       "    <tr>\n",
       "      <th>3</th>\n",
       "      <td>483</td>\n",
       "      <td>gate_40</td>\n",
       "      <td>1</td>\n",
       "      <td>False</td>\n",
       "      <td>False</td>\n",
       "    </tr>\n",
       "    <tr>\n",
       "      <th>4</th>\n",
       "      <td>488</td>\n",
       "      <td>gate_40</td>\n",
       "      <td>179</td>\n",
       "      <td>True</td>\n",
       "      <td>True</td>\n",
       "    </tr>\n",
       "  </tbody>\n",
       "</table>\n",
       "</div>"
      ],
      "text/plain": [
       "   userid  version  sum_gamerounds  retention_1  retention_7\n",
       "0     116  gate_30               3        False        False\n",
       "1     337  gate_30              38         True        False\n",
       "2     377  gate_40             165         True        False\n",
       "3     483  gate_40               1        False        False\n",
       "4     488  gate_40             179         True         True"
      ]
     },
     "execution_count": 45,
     "metadata": {},
     "output_type": "execute_result"
    }
   ],
   "source": [
    "# Load the CSV and preview the data\n",
    "cookie_df = pd.read_csv(r\"data\\cookie_cats.csv\")\n",
    "cookie_df.head()"
   ]
  },
  {
   "cell_type": "code",
   "execution_count": 46,
   "id": "057f90d0",
   "metadata": {},
   "outputs": [
    {
     "name": "stdout",
     "output_type": "stream",
     "text": [
      "<class 'pandas.core.frame.DataFrame'>\n",
      "RangeIndex: 90189 entries, 0 to 90188\n",
      "Data columns (total 5 columns):\n",
      " #   Column          Non-Null Count  Dtype \n",
      "---  ------          --------------  ----- \n",
      " 0   userid          90189 non-null  int64 \n",
      " 1   version         90189 non-null  object\n",
      " 2   sum_gamerounds  90189 non-null  int64 \n",
      " 3   retention_1     90189 non-null  bool  \n",
      " 4   retention_7     90189 non-null  bool  \n",
      "dtypes: bool(2), int64(2), object(1)\n",
      "memory usage: 2.2+ MB\n"
     ]
    }
   ],
   "source": [
    "cookie_df.info()"
   ]
  },
  {
   "cell_type": "code",
   "execution_count": 47,
   "id": "26aea0df",
   "metadata": {},
   "outputs": [
    {
     "data": {
      "text/plain": [
       "version\n",
       "gate_30    44700\n",
       "gate_40    45489\n",
       "Name: userid, dtype: int64"
      ]
     },
     "execution_count": 47,
     "metadata": {},
     "output_type": "execute_result"
    }
   ],
   "source": [
    "cookie_df.groupby(\"version\")[\"userid\"].nunique()"
   ]
  },
  {
   "cell_type": "markdown",
   "id": "9f493d77",
   "metadata": {},
   "source": [
    "### 3. Data cleaning & sanity checks"
   ]
  },
  {
   "cell_type": "markdown",
   "id": "cd1be18d",
   "metadata": {},
   "source": [
    "#### 3.1 Type conversions"
   ]
  },
  {
   "cell_type": "code",
   "execution_count": 48,
   "id": "979b6074",
   "metadata": {},
   "outputs": [
    {
     "data": {
      "text/html": [
       "<div>\n",
       "<style scoped>\n",
       "    .dataframe tbody tr th:only-of-type {\n",
       "        vertical-align: middle;\n",
       "    }\n",
       "\n",
       "    .dataframe tbody tr th {\n",
       "        vertical-align: top;\n",
       "    }\n",
       "\n",
       "    .dataframe thead th {\n",
       "        text-align: right;\n",
       "    }\n",
       "</style>\n",
       "<table border=\"1\" class=\"dataframe\">\n",
       "  <thead>\n",
       "    <tr style=\"text-align: right;\">\n",
       "      <th></th>\n",
       "      <th>retention_1</th>\n",
       "      <th>retention_7</th>\n",
       "    </tr>\n",
       "  </thead>\n",
       "  <tbody>\n",
       "    <tr>\n",
       "      <th>0</th>\n",
       "      <td>0</td>\n",
       "      <td>0</td>\n",
       "    </tr>\n",
       "    <tr>\n",
       "      <th>1</th>\n",
       "      <td>1</td>\n",
       "      <td>0</td>\n",
       "    </tr>\n",
       "    <tr>\n",
       "      <th>2</th>\n",
       "      <td>1</td>\n",
       "      <td>0</td>\n",
       "    </tr>\n",
       "    <tr>\n",
       "      <th>3</th>\n",
       "      <td>0</td>\n",
       "      <td>0</td>\n",
       "    </tr>\n",
       "    <tr>\n",
       "      <th>4</th>\n",
       "      <td>1</td>\n",
       "      <td>1</td>\n",
       "    </tr>\n",
       "  </tbody>\n",
       "</table>\n",
       "</div>"
      ],
      "text/plain": [
       "   retention_1  retention_7\n",
       "0            0            0\n",
       "1            1            0\n",
       "2            1            0\n",
       "3            0            0\n",
       "4            1            1"
      ]
     },
     "execution_count": 48,
     "metadata": {},
     "output_type": "execute_result"
    }
   ],
   "source": [
    "# Convert retention values from boolean to integer\n",
    "cookie_df[[\"retention_1\", \"retention_7\"]] = cookie_df[\n",
    "    [\"retention_1\", \"retention_7\"]\n",
    "].astype(int)\n",
    "cookie_df[[\"retention_1\", \"retention_7\"]].head()"
   ]
  },
  {
   "cell_type": "markdown",
   "id": "0375cb99",
   "metadata": {},
   "source": [
    "#### 3.2 Missing values & duplicates"
   ]
  },
  {
   "cell_type": "code",
   "execution_count": 49,
   "id": "1556fc4c",
   "metadata": {},
   "outputs": [
    {
     "name": "stdout",
     "output_type": "stream",
     "text": [
      "Missing values per column: \n",
      "userid            0\n",
      "version           0\n",
      "sum_gamerounds    0\n",
      "retention_1       0\n",
      "retention_7       0\n",
      "dtype: int64\n"
     ]
    }
   ],
   "source": [
    "# Missing values per column\n",
    "missing_values = cookie_df.isnull().sum()\n",
    "print(f\"Missing values per column: \\n{missing_values}\")"
   ]
  },
  {
   "cell_type": "code",
   "execution_count": 50,
   "id": "2502630d",
   "metadata": {},
   "outputs": [
    {
     "name": "stdout",
     "output_type": "stream",
     "text": [
      "Unique users: 90189\n",
      "Duplicate users: []\n"
     ]
    }
   ],
   "source": [
    "# Check unique users and duplicates\n",
    "unique_users = cookie_df[\"userid\"].nunique()\n",
    "duplicate_users = cookie_df[cookie_df.duplicated(\"userid\", keep=False)]\n",
    "\n",
    "print(f\"Unique users: {unique_users}\")\n",
    "print(f\"Duplicate users: {duplicate_users['userid'].unique()}\")"
   ]
  },
  {
   "cell_type": "markdown",
   "id": "44cffd06",
   "metadata": {},
   "source": [
    "#### 3.3 Outliers\n",
    "\n",
    "Exploring outliers in ``sum_gamerounds`` distribution."
   ]
  },
  {
   "cell_type": "code",
   "execution_count": 51,
   "id": "c7c123cd",
   "metadata": {},
   "outputs": [
    {
     "data": {
      "text/html": [
       "<div>\n",
       "<style scoped>\n",
       "    .dataframe tbody tr th:only-of-type {\n",
       "        vertical-align: middle;\n",
       "    }\n",
       "\n",
       "    .dataframe tbody tr th {\n",
       "        vertical-align: top;\n",
       "    }\n",
       "\n",
       "    .dataframe thead th {\n",
       "        text-align: right;\n",
       "    }\n",
       "</style>\n",
       "<table border=\"1\" class=\"dataframe\">\n",
       "  <thead>\n",
       "    <tr style=\"text-align: right;\">\n",
       "      <th></th>\n",
       "      <th>userid</th>\n",
       "      <th>version</th>\n",
       "      <th>sum_gamerounds</th>\n",
       "      <th>retention_1</th>\n",
       "      <th>retention_7</th>\n",
       "    </tr>\n",
       "  </thead>\n",
       "  <tbody>\n",
       "    <tr>\n",
       "      <th>57702</th>\n",
       "      <td>6390605</td>\n",
       "      <td>gate_30</td>\n",
       "      <td>49854</td>\n",
       "      <td>0</td>\n",
       "      <td>1</td>\n",
       "    </tr>\n",
       "    <tr>\n",
       "      <th>7912</th>\n",
       "      <td>871500</td>\n",
       "      <td>gate_30</td>\n",
       "      <td>2961</td>\n",
       "      <td>1</td>\n",
       "      <td>1</td>\n",
       "    </tr>\n",
       "    <tr>\n",
       "      <th>29417</th>\n",
       "      <td>3271615</td>\n",
       "      <td>gate_40</td>\n",
       "      <td>2640</td>\n",
       "      <td>1</td>\n",
       "      <td>0</td>\n",
       "    </tr>\n",
       "    <tr>\n",
       "      <th>43671</th>\n",
       "      <td>4832608</td>\n",
       "      <td>gate_30</td>\n",
       "      <td>2438</td>\n",
       "      <td>1</td>\n",
       "      <td>1</td>\n",
       "    </tr>\n",
       "    <tr>\n",
       "      <th>48188</th>\n",
       "      <td>5346171</td>\n",
       "      <td>gate_40</td>\n",
       "      <td>2294</td>\n",
       "      <td>1</td>\n",
       "      <td>1</td>\n",
       "    </tr>\n",
       "  </tbody>\n",
       "</table>\n",
       "</div>"
      ],
      "text/plain": [
       "        userid  version  sum_gamerounds  retention_1  retention_7\n",
       "57702  6390605  gate_30           49854            0            1\n",
       "7912    871500  gate_30            2961            1            1\n",
       "29417  3271615  gate_40            2640            1            0\n",
       "43671  4832608  gate_30            2438            1            1\n",
       "48188  5346171  gate_40            2294            1            1"
      ]
     },
     "execution_count": 51,
     "metadata": {},
     "output_type": "execute_result"
    }
   ],
   "source": [
    "# Inspect top players with highest game rounds\n",
    "cookie_df.sort_values(\"sum_gamerounds\", ascending=False).head()"
   ]
  },
  {
   "cell_type": "markdown",
   "id": "99320b5b",
   "metadata": {},
   "source": [
    "**Note:** 49854 game rounds is physically impossible, this value is possibly not a naturally ocurring outlier but due to a data integrity error. The remaining top values are in the 2-3k range, indicating extreme player engagement (within normal constraints). I decided to remove the 50k row and use the filtered dataset (``plot_df``) only for the relevant plots on engagement so that they are better interpretable. The sanity checks and tests use the main dataset (``cookiecats_df``) and thus remain unaffected by this decision."
   ]
  },
  {
   "cell_type": "code",
   "execution_count": 52,
   "id": "d91cc0ca",
   "metadata": {},
   "outputs": [
    {
     "data": {
      "text/html": [
       "<div>\n",
       "<style scoped>\n",
       "    .dataframe tbody tr th:only-of-type {\n",
       "        vertical-align: middle;\n",
       "    }\n",
       "\n",
       "    .dataframe tbody tr th {\n",
       "        vertical-align: top;\n",
       "    }\n",
       "\n",
       "    .dataframe thead th {\n",
       "        text-align: right;\n",
       "    }\n",
       "</style>\n",
       "<table border=\"1\" class=\"dataframe\">\n",
       "  <thead>\n",
       "    <tr style=\"text-align: right;\">\n",
       "      <th></th>\n",
       "      <th>userid</th>\n",
       "      <th>version</th>\n",
       "      <th>sum_gamerounds</th>\n",
       "      <th>retention_1</th>\n",
       "      <th>retention_7</th>\n",
       "    </tr>\n",
       "  </thead>\n",
       "  <tbody>\n",
       "    <tr>\n",
       "      <th>7912</th>\n",
       "      <td>871500</td>\n",
       "      <td>gate_30</td>\n",
       "      <td>2961</td>\n",
       "      <td>1</td>\n",
       "      <td>1</td>\n",
       "    </tr>\n",
       "    <tr>\n",
       "      <th>29417</th>\n",
       "      <td>3271615</td>\n",
       "      <td>gate_40</td>\n",
       "      <td>2640</td>\n",
       "      <td>1</td>\n",
       "      <td>0</td>\n",
       "    </tr>\n",
       "    <tr>\n",
       "      <th>43671</th>\n",
       "      <td>4832608</td>\n",
       "      <td>gate_30</td>\n",
       "      <td>2438</td>\n",
       "      <td>1</td>\n",
       "      <td>1</td>\n",
       "    </tr>\n",
       "    <tr>\n",
       "      <th>48188</th>\n",
       "      <td>5346171</td>\n",
       "      <td>gate_40</td>\n",
       "      <td>2294</td>\n",
       "      <td>1</td>\n",
       "      <td>1</td>\n",
       "    </tr>\n",
       "    <tr>\n",
       "      <th>46344</th>\n",
       "      <td>5133952</td>\n",
       "      <td>gate_30</td>\n",
       "      <td>2251</td>\n",
       "      <td>1</td>\n",
       "      <td>1</td>\n",
       "    </tr>\n",
       "  </tbody>\n",
       "</table>\n",
       "</div>"
      ],
      "text/plain": [
       "        userid  version  sum_gamerounds  retention_1  retention_7\n",
       "7912    871500  gate_30            2961            1            1\n",
       "29417  3271615  gate_40            2640            1            0\n",
       "43671  4832608  gate_30            2438            1            1\n",
       "48188  5346171  gate_40            2294            1            1\n",
       "46344  5133952  gate_30            2251            1            1"
      ]
     },
     "execution_count": 52,
     "metadata": {},
     "output_type": "execute_result"
    }
   ],
   "source": [
    "# Drop the anomalous value\n",
    "plot_df = cookie_df[cookie_df[\"sum_gamerounds\"] < 3000].copy()\n",
    "plot_df.sort_values(\"sum_gamerounds\", ascending=False).head()"
   ]
  },
  {
   "cell_type": "code",
   "execution_count": 53,
   "id": "63264f45",
   "metadata": {},
   "outputs": [
    {
     "name": "stdout",
     "output_type": "stream",
     "text": [
      "count    90189.000000\n",
      "mean        51.872457\n",
      "std        195.050858\n",
      "min          0.000000\n",
      "50%         16.000000\n",
      "90%        134.000000\n",
      "95%        221.000000\n",
      "99%        493.000000\n",
      "99.9%     1073.624000\n",
      "max      49854.000000\n",
      "Name: sum_gamerounds, dtype: float64\n"
     ]
    },
    {
     "name": "stdout",
     "output_type": "stream",
     "text": [
      "Outliers detected: 10177 rows (11.28% of dataset)\n"
     ]
    }
   ],
   "source": [
    "# Inspect game rounds distribution\n",
    "percentiles = cookie_df[\"sum_gamerounds\"].describe(\n",
    "    percentiles=[0.5, 0.9, 0.95, 0.99, 0.999]\n",
    ")\n",
    "print(percentiles)\n",
    "\n",
    "# IQR method\n",
    "Q1 = cookie_df[\"sum_gamerounds\"].quantile(0.25)\n",
    "Q3 = cookie_df[\"sum_gamerounds\"].quantile(0.75)\n",
    "IQR = Q3 - Q1\n",
    "lower_bound = Q1 - 1.5 * IQR\n",
    "upper_bound = Q3 + 1.5 * IQR\n",
    "\n",
    "# Check outliers\n",
    "outliers = cookie_df[\n",
    "    (cookie_df[\"sum_gamerounds\"] < lower_bound)\n",
    "    | (cookie_df[\"sum_gamerounds\"] > upper_bound)\n",
    "]\n",
    "print(\n",
    "    f\"Outliers detected: {len(outliers)} rows ({len(outliers) / len(cookie_df):.2%} of dataset)\"\n",
    ")"
   ]
  },
  {
   "cell_type": "code",
   "execution_count": 54,
   "id": "08632cbe",
   "metadata": {},
   "outputs": [],
   "source": [
    "# Set uniform style for all plots\n",
    "def set_plot_style():\n",
    "    \"\"\"Apply uniform style for plotting\"\"\"\n",
    "\n",
    "    # Matplotlib parameters\n",
    "    plt.rcParams[\"figure.figsize\"] = [10, 6]\n",
    "    plt.rcParams[\"font.size\"] = 12\n",
    "    plt.rcParams[\"axes.titlesize\"] = 14\n",
    "    plt.rcParams[\"axes.labelsize\"] = 12\n",
    "    plt.rcParams[\"xtick.labelsize\"] = 10\n",
    "    plt.rcParams[\"ytick.labelsize\"] = 10\n",
    "    plt.rcParams[\"legend.fontsize\"] = 11\n",
    "    plt.rcParams[\"figure.dpi\"] = 100\n",
    "    plt.rcParams[\"savefig.dpi\"] = 500\n",
    "    plt.rcParams[\"grid.alpha\"] = 0.3\n",
    "\n",
    "    # Seaborn style\n",
    "    sns.set_style(\"whitegrid\")\n",
    "\n",
    "    # Set custom color palette\n",
    "    custom_palette = [\"#6B46C1\", \"#3182CE\", \"#63B3ED\", \"#BEE3F8\", \"#EBF8FF\"]\n",
    "    sns.set_palette(custom_palette)\n",
    "\n",
    "\n",
    "set_plot_style()"
   ]
  },
  {
   "cell_type": "code",
   "execution_count": 55,
   "id": "126b34b7",
   "metadata": {},
   "outputs": [
    {
     "data": {
      "image/png": "[encoded data removed]",
      "text/plain": [
       "<Figure size 1000x600 with 1 Axes>"
      ]
     },
     "metadata": {},
     "output_type": "display_data"
    }
   ],
   "source": [
    "# Plot game rounds distribution\n",
    "sns.boxplot(x=\"version\", y=\"sum_gamerounds\", data=plot_df, hue=\"version\", width=0.5)\n",
    "plt.title(\"Distribution of Game Rounds by Version\")\n",
    "plt.xlabel(\"Game Version\")\n",
    "plt.ylabel(\"Game Rounds\")\n",
    "plt.ylim(lower_bound, upper_bound * 2)\n",
    "plt.show()"
   ]
  },
  {
   "cell_type": "code",
   "execution_count": 56,
   "id": "b41b1868",
   "metadata": {},
   "outputs": [
    {
     "data": {
      "image/png": "[encoded data removed]",
      "text/plain": [
       "<Figure size 1000x600 with 1 Axes>"
      ]
     },
     "metadata": {},
     "output_type": "display_data"
    }
   ],
   "source": [
    "# Create a column to log-transform sum_gamerounds\n",
    "plot_df.loc[:, \"log_sum_gamerounds\"] = np.log1p(plot_df[\"sum_gamerounds\"])\n",
    "\n",
    "# Plot game rounds distributions by version\n",
    "sns.boxplot(\n",
    "    x=\"version\",\n",
    "    y=\"log_sum_gamerounds\",\n",
    "    data=plot_df,\n",
    "    hue=\"version\",\n",
    "    width=0.5,\n",
    ")\n",
    "plt.title(\"Distribution of Game Rounds by Version (log scale)\")\n",
    "plt.xlabel(\"Game Version\")\n",
    "plt.ylabel(\"Game Rounds (log scale)\")\n",
    "plt.show()"
   ]
  },
  {
   "cell_type": "markdown",
   "id": "4388e009",
   "metadata": {},
   "source": [
    "#### 3.5 Assignment counts & Sample Ratio Test\n",
    "\n",
    "Conduct a sanity check for sample ratio mismatch (SRM) between versions ``gate_30`` (control group) and ``gate_40`` (treatment group)."
   ]
  },
  {
   "cell_type": "code",
   "execution_count": 57,
   "id": "690932fa",
   "metadata": {},
   "outputs": [
    {
     "name": "stdout",
     "output_type": "stream",
     "text": [
      "Unique control players: 44700\n",
      "Unique treatment players: 45489\n",
      "Total unique players: 90189\n"
     ]
    }
   ],
   "source": [
    "# Assign unique player counts to variables\n",
    "control_players = cookie_df[cookie_df[\"version\"] == \"gate_30\"][\"userid\"].nunique()\n",
    "treatment_players = cookie_df[cookie_df[\"version\"] == \"gate_40\"][\"userid\"].nunique()\n",
    "total_players = control_players + treatment_players\n",
    "\n",
    "print(f\"Unique control players: {control_players}\")\n",
    "print(f\"Unique treatment players: {treatment_players}\")\n",
    "print(f\"Total unique players: {total_players}\")"
   ]
  },
  {
   "cell_type": "code",
   "execution_count": 58,
   "id": "ba01b67f",
   "metadata": {},
   "outputs": [
    {
     "name": "stdout",
     "output_type": "stream",
     "text": [
      "Percentage of players in control group (gate_30): 49.56%\n",
      "Percentage of players in treatment group (gate_40): 50.44%\n"
     ]
    }
   ],
   "source": [
    "# Create allocation ratios per version\n",
    "control_perc = control_players / total_players\n",
    "treatment_perc = treatment_players / total_players\n",
    "\n",
    "print(f\"Percentage of players in control group (gate_30): {control_perc:.2%}\")\n",
    "print(f\"Percentage of players in treatment group (gate_40): {treatment_perc:.2%}\")"
   ]
  },
  {
   "cell_type": "code",
   "execution_count": 59,
   "id": "278d5a2e",
   "metadata": {},
   "outputs": [
    {
     "name": "stdout",
     "output_type": "stream",
     "text": [
      "SRM (chi-square) p = 0.00860799 | (binomial) p = 0.00869223\n",
      "Allocation ratio: control = 44700 (49.56%), treatment = 45489 (50.44%)\n",
      "No strong SRM indication\n"
     ]
    }
   ],
   "source": [
    "# Create lists of observed and expected counts per version\n",
    "observed = [control_players, treatment_players]\n",
    "expected = [total_players / 2, total_players / 2]\n",
    "\n",
    "# Run chi-square test for SRM\n",
    "chi_stat, srm_chi2_pval = chisquare(f_obs=observed, f_exp=expected)\n",
    "\n",
    "# Run exact binomial test for SRM\n",
    "res = binomtest(k=control_players, n=total_players, p=0.5, alternative=\"two-sided\")\n",
    "srm_binom_pval = res.pvalue\n",
    "\n",
    "print(f\"SRM (chi-square) p = {srm_chi2_pval:6g} | (binomial) p = {srm_binom_pval:6g}\")\n",
    "print(\n",
    "    f\"Allocation ratio: control = {control_players} ({control_perc:.2%}), treatment = {treatment_players} ({treatment_perc:.2%})\"\n",
    ")\n",
    "\n",
    "if min(srm_chi2_pval, srm_binom_pval) < 0.001:\n",
    "    print(\"Strong SRM indication\")\n",
    "else:\n",
    "    print(\"No strong SRM indication\")"
   ]
  },
  {
   "cell_type": "markdown",
   "id": "7a0b79e3",
   "metadata": {},
   "source": [
    "### 4. Exploratory data analysis (EDA)"
   ]
  },
  {
   "cell_type": "markdown",
   "id": "24411516",
   "metadata": {},
   "source": [
    "#### 4.1 Summary statistics\n",
    "\n",
    "Mean, count, and standard deviation summary"
   ]
  },
  {
   "cell_type": "code",
   "execution_count": 60,
   "id": "784eedb3",
   "metadata": {},
   "outputs": [
    {
     "data": {
      "text/html": [
       "<div>\n",
       "<style scoped>\n",
       "    .dataframe tbody tr th:only-of-type {\n",
       "        vertical-align: middle;\n",
       "    }\n",
       "\n",
       "    .dataframe tbody tr th {\n",
       "        vertical-align: top;\n",
       "    }\n",
       "\n",
       "    .dataframe thead tr th {\n",
       "        text-align: left;\n",
       "    }\n",
       "\n",
       "    .dataframe thead tr:last-of-type th {\n",
       "        text-align: right;\n",
       "    }\n",
       "</style>\n",
       "<table border=\"1\" class=\"dataframe\">\n",
       "  <thead>\n",
       "    <tr>\n",
       "      <th></th>\n",
       "      <th colspan=\"3\" halign=\"left\">retention_1</th>\n",
       "      <th colspan=\"3\" halign=\"left\">retention_7</th>\n",
       "    </tr>\n",
       "    <tr>\n",
       "      <th></th>\n",
       "      <th>mean</th>\n",
       "      <th>std</th>\n",
       "      <th>count</th>\n",
       "      <th>mean</th>\n",
       "      <th>std</th>\n",
       "      <th>count</th>\n",
       "    </tr>\n",
       "    <tr>\n",
       "      <th>version</th>\n",
       "      <th></th>\n",
       "      <th></th>\n",
       "      <th></th>\n",
       "      <th></th>\n",
       "      <th></th>\n",
       "      <th></th>\n",
       "    </tr>\n",
       "  </thead>\n",
       "  <tbody>\n",
       "    <tr>\n",
       "      <th>gate_30</th>\n",
       "      <td>0.448188</td>\n",
       "      <td>0.497314</td>\n",
       "      <td>44700</td>\n",
       "      <td>0.190201</td>\n",
       "      <td>0.392464</td>\n",
       "      <td>44700</td>\n",
       "    </tr>\n",
       "    <tr>\n",
       "      <th>gate_40</th>\n",
       "      <td>0.442283</td>\n",
       "      <td>0.496663</td>\n",
       "      <td>45489</td>\n",
       "      <td>0.182000</td>\n",
       "      <td>0.385849</td>\n",
       "      <td>45489</td>\n",
       "    </tr>\n",
       "  </tbody>\n",
       "</table>\n",
       "</div>"
      ],
      "text/plain": [
       "        retention_1                  retention_7                 \n",
       "               mean       std  count        mean       std  count\n",
       "version                                                          \n",
       "gate_30    0.448188  0.497314  44700    0.190201  0.392464  44700\n",
       "gate_40    0.442283  0.496663  45489    0.182000  0.385849  45489"
      ]
     },
     "execution_count": 60,
     "metadata": {},
     "output_type": "execute_result"
    }
   ],
   "source": [
    "# Retention summary statistics\n",
    "cookie_df.groupby(\"version\")[[\"retention_1\", \"retention_7\"]].agg(\n",
    "    [\"mean\", \"std\", \"count\"]\n",
    ")"
   ]
  },
  {
   "cell_type": "code",
   "execution_count": 61,
   "id": "4bc778e4",
   "metadata": {},
   "outputs": [
    {
     "data": {
      "text/html": [
       "<div>\n",
       "<style scoped>\n",
       "    .dataframe tbody tr th:only-of-type {\n",
       "        vertical-align: middle;\n",
       "    }\n",
       "\n",
       "    .dataframe tbody tr th {\n",
       "        vertical-align: top;\n",
       "    }\n",
       "\n",
       "    .dataframe thead tr th {\n",
       "        text-align: left;\n",
       "    }\n",
       "\n",
       "    .dataframe thead tr:last-of-type th {\n",
       "        text-align: right;\n",
       "    }\n",
       "</style>\n",
       "<table border=\"1\" class=\"dataframe\">\n",
       "  <thead>\n",
       "    <tr>\n",
       "      <th></th>\n",
       "      <th colspan=\"3\" halign=\"left\">sum_gamerounds</th>\n",
       "    </tr>\n",
       "    <tr>\n",
       "      <th></th>\n",
       "      <th>mean</th>\n",
       "      <th>std</th>\n",
       "      <th>count</th>\n",
       "    </tr>\n",
       "    <tr>\n",
       "      <th>version</th>\n",
       "      <th></th>\n",
       "      <th></th>\n",
       "      <th></th>\n",
       "    </tr>\n",
       "  </thead>\n",
       "  <tbody>\n",
       "    <tr>\n",
       "      <th>gate_30</th>\n",
       "      <td>52.456264</td>\n",
       "      <td>256.716423</td>\n",
       "      <td>44700</td>\n",
       "    </tr>\n",
       "    <tr>\n",
       "      <th>gate_40</th>\n",
       "      <td>51.298776</td>\n",
       "      <td>103.294416</td>\n",
       "      <td>45489</td>\n",
       "    </tr>\n",
       "  </tbody>\n",
       "</table>\n",
       "</div>"
      ],
      "text/plain": [
       "        sum_gamerounds                   \n",
       "                  mean         std  count\n",
       "version                                  \n",
       "gate_30      52.456264  256.716423  44700\n",
       "gate_40      51.298776  103.294416  45489"
      ]
     },
     "execution_count": 61,
     "metadata": {},
     "output_type": "execute_result"
    }
   ],
   "source": [
    "# Game rounds summary statistics\n",
    "cookie_df.groupby(\"version\")[[\"sum_gamerounds\"]].agg([\"mean\", \"std\", \"count\"])"
   ]
  },
  {
   "cell_type": "markdown",
   "id": "60ab92da",
   "metadata": {},
   "source": [
    "#### 4.2 Assignment bar plot"
   ]
  },
  {
   "cell_type": "code",
   "execution_count": 62,
   "id": "5ee79184",
   "metadata": {},
   "outputs": [
    {
     "data": {
      "image/png": "[encoded data removed]",
      "text/plain": [
       "<Figure size 1000x600 with 1 Axes>"
      ]
     },
     "metadata": {},
     "output_type": "display_data"
    }
   ],
   "source": [
    "# Plot assignment counts by version\n",
    "sns.countplot(x=\"version\", data=cookie_df, hue=\"version\", width=0.5)\n",
    "plt.title(\"Assignment Counts by Version\")\n",
    "plt.xlabel(\"Game Version\")\n",
    "plt.ylabel(\"Number of Assignments\")\n",
    "plt.show()"
   ]
  },
  {
   "cell_type": "markdown",
   "id": "f99c97c9",
   "metadata": {},
   "source": [
    "#### 4.3 Retention rates (day-1 and day-7) with 95% CI"
   ]
  },
  {
   "cell_type": "code",
   "execution_count": 63,
   "id": "2f3996a6",
   "metadata": {},
   "outputs": [
    {
     "data": {
      "image/png": "[encoded data removed]",
      "text/plain": [
       "<Figure size 1000x600 with 1 Axes>"
      ]
     },
     "metadata": {},
     "output_type": "display_data"
    }
   ],
   "source": [
    "# Function to plot grouped bar with confidence intervals\n",
    "def plot_grouped_bars_with_ci(df):\n",
    "    # Build summary for both metrics\n",
    "    rows = []\n",
    "    for col, label in [(\"retention_1\", \"Day-1\"), (\"retention_7\", \"Day-7\")]:\n",
    "        agg = (\n",
    "            df.groupby(\"version\")[col]\n",
    "            .agg([\"sum\", \"count\"])\n",
    "            .rename(columns={\"sum\": \"successes\", \"count\": \"n\"})\n",
    "        )\n",
    "        agg[\"rate\"] = agg[\"successes\"] / agg[\"n\"]\n",
    "        agg[[\"ci_low\", \"ci_upp\"]] = agg.apply(\n",
    "            lambda r: pd.Series(\n",
    "                proportion_confint(int(r[\"successes\"]), int(r[\"n\"]), method=\"wilson\")\n",
    "            ),\n",
    "            axis=1,\n",
    "        )\n",
    "        agg = agg.loc[[\"gate_30\", \"gate_40\"]]\n",
    "        for v in agg.index:\n",
    "            rows.append(\n",
    "                dict(\n",
    "                    metric=label,\n",
    "                    version=v,\n",
    "                    rate=agg.loc[v, \"rate\"],\n",
    "                    err_low=agg.loc[v, \"rate\"] - agg.loc[v, \"ci_low\"],\n",
    "                    err_upp=agg.loc[v, \"ci_upp\"] - agg.loc[v, \"rate\"],\n",
    "                )\n",
    "            )\n",
    "    out = pd.DataFrame(rows)\n",
    "\n",
    "    colors = [\"#6B46C1\", \"#3182CE\"]  # Purple for Day-1, blue for Day-7\n",
    "\n",
    "    fig, ax = plt.subplots()\n",
    "    width = 0.35\n",
    "    x = np.arange(2)  # gate_30, gate_40\n",
    "\n",
    "    # Day-1 bars\n",
    "    d1 = out[out.metric == \"Day-1\"].sort_values(\"version\")\n",
    "    ax.bar(\n",
    "        x - width / 2,\n",
    "        d1[\"rate\"],\n",
    "        width,\n",
    "        yerr=[d1[\"err_low\"], d1[\"err_upp\"]],\n",
    "        capsize=6,\n",
    "        label=\"Day-1\",\n",
    "        color=colors[0],\n",
    "    )\n",
    "\n",
    "    # Day-7 bars\n",
    "    d7 = out[out.metric == \"Day-7\"].sort_values(\"version\")\n",
    "    ax.bar(\n",
    "        x + width / 2,\n",
    "        d7[\"rate\"],\n",
    "        width,\n",
    "        yerr=[d7[\"err_low\"], d7[\"err_upp\"]],\n",
    "        capsize=6,\n",
    "        label=\"Day-7\",\n",
    "        color=colors[1],\n",
    "    )\n",
    "\n",
    "    ax.set_xticks(x, [\"gate_30\", \"gate_40\"])\n",
    "    ax.yaxis.set_major_formatter(mtick.PercentFormatter(1.0))\n",
    "    ax.set_ylabel(\"Retention Rate\")\n",
    "    ax.set_title(\"Retention Rates by Version with 95% CI\")\n",
    "    ax.legend()\n",
    "\n",
    "    plt.tight_layout()\n",
    "    plt.show()\n",
    "\n",
    "\n",
    "# Call the function\n",
    "plot_grouped_bars_with_ci(cookie_df)"
   ]
  },
  {
   "cell_type": "markdown",
   "id": "1a9eac13",
   "metadata": {},
   "source": [
    "#### 4.4 Game rounds distribution"
   ]
  },
  {
   "cell_type": "code",
   "execution_count": 64,
   "id": "29a773c7",
   "metadata": {},
   "outputs": [
    {
     "data": {
      "image/png": "[encoded data removed]",
      "text/plain": [
       "<Figure size 1000x600 with 1 Axes>"
      ]
     },
     "metadata": {},
     "output_type": "display_data"
    }
   ],
   "source": [
    "# Plot histogram for control group (gate_30)\n",
    "sns.histplot(\n",
    "    data=plot_df[plot_df[\"version\"] == \"gate_30\"],\n",
    "    x=\"sum_gamerounds\",\n",
    "    bins=50,\n",
    "    alpha=0.7,\n",
    "    label=\"Control (gate_30)\",\n",
    ")\n",
    "\n",
    "# Plot histogram for treatment group (gate_40)\n",
    "sns.histplot(\n",
    "    data=plot_df[plot_df[\"version\"] == \"gate_40\"],\n",
    "    x=\"sum_gamerounds\",\n",
    "    bins=50,\n",
    "    alpha=0.7,\n",
    "    label=\"Treatment (gate_40)\",\n",
    ")\n",
    "\n",
    "plt.title(\"Player Count - Game Rounds Distribution (raw scale)\")\n",
    "plt.xlabel(\"Game Rounds\")\n",
    "plt.ylabel(\"Player Count\")\n",
    "plt.legend()\n",
    "plt.show()"
   ]
  },
  {
   "cell_type": "code",
   "execution_count": 65,
   "id": "8637e62e",
   "metadata": {},
   "outputs": [
    {
     "data": {
      "image/png": "[encoded data removed]",
      "text/plain": [
       "<Figure size 1000x600 with 1 Axes>"
      ]
     },
     "metadata": {},
     "output_type": "display_data"
    }
   ],
   "source": [
    "# Plot histogram for control group (gate_30)\n",
    "sns.histplot(\n",
    "    data=plot_df[plot_df[\"version\"] == \"gate_30\"],\n",
    "    x=\"log_sum_gamerounds\",\n",
    "    bins=50,\n",
    "    alpha=0.7,\n",
    "    label=\"Control (gate_30)\",\n",
    ")\n",
    "\n",
    "# Plot histogram for treatment group (gate_40)\n",
    "sns.histplot(\n",
    "    data=plot_df[plot_df[\"version\"] == \"gate_40\"],\n",
    "    x=\"log_sum_gamerounds\",\n",
    "    bins=50,\n",
    "    alpha=0.7,\n",
    "    label=\"Treatment (gate_40)\",\n",
    ")\n",
    "\n",
    "plt.title(\"Player Count - Game Rounds Distribution (log scale)\")\n",
    "plt.xlabel(\"Game Rounds (log scale)\")\n",
    "plt.ylabel(\"Player Count (log scale)\")\n",
    "plt.legend()\n",
    "plt.show()"
   ]
  },
  {
   "cell_type": "markdown",
   "id": "d6936332",
   "metadata": {},
   "source": [
    "### 5. Power analysis & MDE exploration"
   ]
  },
  {
   "cell_type": "code",
   "execution_count": 66,
   "id": "1baf30fb",
   "metadata": {},
   "outputs": [],
   "source": [
    "# Invert Cohen's h to get p1 given p0 and h\n",
    "def h_to_p1(h, p0):\n",
    "    return np.sin(np.arcsin(np.sqrt(p0)) + h / 2.0) ** 2"
   ]
  },
  {
   "cell_type": "code",
   "execution_count": 67,
   "id": "25960c2e",
   "metadata": {},
   "outputs": [
    {
     "name": "stdout",
     "output_type": "stream",
     "text": [
      "Baseline p0 (control day-7 retention): 0.1902\n"
     ]
    }
   ],
   "source": [
    "# Baseline p0 (control group day-7 retention)\n",
    "p0 = cookie_df[cookie_df[\"version\"] == \"gate_30\"][\"retention_7\"].mean()\n",
    "print(f\"Baseline p0 (control day-7 retention): {p0:.4f}\")"
   ]
  },
  {
   "cell_type": "markdown",
   "id": "dc5086dc",
   "metadata": {},
   "source": [
    "Minimum Detectable Effect at current sample sizes (80% power, alpha = 0.05)"
   ]
  },
  {
   "cell_type": "code",
   "execution_count": 68,
   "id": "bb2a3e74",
   "metadata": {},
   "outputs": [
    {
     "name": "stdout",
     "output_type": "stream",
     "text": [
      "MDE at current N (44700) (80% power, two-sided alpha=0.05): 0.7409 pp\n"
     ]
    }
   ],
   "source": [
    "# Solve for the effect size h required to achieve 80% power at the actual N\n",
    "N = cookie_df[cookie_df[\"version\"] == \"gate_30\"].shape[0]  # actual sample size\n",
    "ratio = 1.0  # balanced planning curve\n",
    "\n",
    "power_analysis = NormalIndPower()\n",
    "effectsize_needed = power_analysis.solve_power(\n",
    "    effect_size=None,\n",
    "    nobs1=N,\n",
    "    alpha=alpha,\n",
    "    power=power,\n",
    "    ratio=ratio,\n",
    "    alternative=\"two-sided\",\n",
    ")\n",
    "\n",
    "# Convert h back to absolute uplift in percentage points\n",
    "p1_mde = h_to_p1(effectsize_needed, p0)\n",
    "mde_pp_current = (p1_mde - p0) * 100\n",
    "print(\n",
    "    f\"MDE at current N ({N}) (80% power, two-sided alpha=0.05): {mde_pp_current:.4f} pp\"\n",
    ")"
   ]
  },
  {
   "cell_type": "markdown",
   "id": "c55ead26",
   "metadata": {},
   "source": [
    "Any true lift ≥ 0.74 pp will be detected with ≈80% power."
   ]
  },
  {
   "cell_type": "markdown",
   "id": "435f8eee",
   "metadata": {},
   "source": [
    "Required N per group for target MDEs (balanced)"
   ]
  },
  {
   "cell_type": "code",
   "execution_count": 69,
   "id": "1a9adcac",
   "metadata": {},
   "outputs": [
    {
     "data": {
      "text/html": [
       "<div>\n",
       "<style scoped>\n",
       "    .dataframe tbody tr th:only-of-type {\n",
       "        vertical-align: middle;\n",
       "    }\n",
       "\n",
       "    .dataframe tbody tr th {\n",
       "        vertical-align: top;\n",
       "    }\n",
       "\n",
       "    .dataframe thead th {\n",
       "        text-align: right;\n",
       "    }\n",
       "</style>\n",
       "<table border=\"1\" class=\"dataframe\">\n",
       "  <thead>\n",
       "    <tr style=\"text-align: right;\">\n",
       "      <th></th>\n",
       "      <th>Target MDE (pp)</th>\n",
       "      <th>Required N per group</th>\n",
       "    </tr>\n",
       "  </thead>\n",
       "  <tbody>\n",
       "    <tr>\n",
       "      <th>0</th>\n",
       "      <td>0.5</td>\n",
       "      <td>97679</td>\n",
       "    </tr>\n",
       "    <tr>\n",
       "      <th>1</th>\n",
       "      <td>0.8</td>\n",
       "      <td>38380</td>\n",
       "    </tr>\n",
       "    <tr>\n",
       "      <th>2</th>\n",
       "      <td>1.0</td>\n",
       "      <td>24658</td>\n",
       "    </tr>\n",
       "    <tr>\n",
       "      <th>3</th>\n",
       "      <td>1.5</td>\n",
       "      <td>11063</td>\n",
       "    </tr>\n",
       "    <tr>\n",
       "      <th>4</th>\n",
       "      <td>2.0</td>\n",
       "      <td>6281</td>\n",
       "    </tr>\n",
       "  </tbody>\n",
       "</table>\n",
       "</div>"
      ],
      "text/plain": [
       "   Target MDE (pp)  Required N per group\n",
       "0              0.5                 97679\n",
       "1              0.8                 38380\n",
       "2              1.0                 24658\n",
       "3              1.5                 11063\n",
       "4              2.0                  6281"
      ]
     },
     "execution_count": 69,
     "metadata": {},
     "output_type": "execute_result"
    }
   ],
   "source": [
    "# Choose target MDEs in percentage points (pp)\n",
    "targets_pp = [0.5, 0.8, 1.0, 1.5, 2.0]\n",
    "\n",
    "rows = []\n",
    "for pp in targets_pp:\n",
    "    # Calculate the required sample size for each target MDE\n",
    "    p1_target = min(max(p0 + pp / 100.0, 1e-9), 1 - 1e-9)\n",
    "    effectsize_target = proportion_effectsize(p1_target, p0)\n",
    "    n_per_group = power_analysis.solve_power(\n",
    "        effect_size=effectsize_target,\n",
    "        nobs1=None,\n",
    "        alpha=alpha,\n",
    "        power=power,\n",
    "        ratio=ratio,\n",
    "        alternative=\"two-sided\",\n",
    "    )\n",
    "\n",
    "    rows.append(\n",
    "        {\"Target MDE (pp)\": pp, \"Required N per group\": int(math.ceil(n_per_group))}\n",
    "    )\n",
    "\n",
    "required_n_df = pd.DataFrame(rows)\n",
    "required_n_df"
   ]
  },
  {
   "cell_type": "markdown",
   "id": "ef3ed267",
   "metadata": {},
   "source": [
    "Power vs. MDE plot"
   ]
  },
  {
   "cell_type": "code",
   "execution_count": 70,
   "id": "97d64e07",
   "metadata": {},
   "outputs": [
    {
     "data": {
      "image/png": "[encoded data removed]",
      "text/plain": [
       "<Figure size 1000x600 with 1 Axes>"
      ]
     },
     "metadata": {},
     "output_type": "display_data"
    }
   ],
   "source": [
    "# Plot — Power vs MDE (pp) at current N\n",
    "uplifts = np.linspace(0, 2.5, 51)\n",
    "powers = []\n",
    "for pp in uplifts:\n",
    "    p1 = min(max(p0 + pp / 100.0, 1e-9), 1 - 1e-9)\n",
    "    effectsize = proportion_effectsize(p1, p0)\n",
    "    pw = power_analysis.solve_power(\n",
    "        effect_size=effectsize,\n",
    "        nobs1=N,\n",
    "        alpha=alpha,\n",
    "        ratio=ratio,\n",
    "        alternative=\"two-sided\",\n",
    "    )\n",
    "    powers.append(pw)\n",
    "\n",
    "\n",
    "plt.plot(uplifts, powers, color=\"#6B46C1\", linewidth=2)\n",
    "plt.axhline(0.8, linestyle=\"--\", linewidth=1, color=\"#63B3ED\")\n",
    "\n",
    "# Add point for current MDE\n",
    "plt.scatter([mde_pp_current], [0.80], color=\"#3182CE\", zorder=5)\n",
    "plt.text(\n",
    "    mde_pp_current + 0.3,\n",
    "    0.72,\n",
    "    f\"Current MDE = {mde_pp_current:.2f} pp\",\n",
    "    ha=\"center\",\n",
    "    color=\"#3182CE\",\n",
    ")\n",
    "\n",
    "# Format y-axis as percentages\n",
    "plt.gca().yaxis.set_major_formatter(mtick.PercentFormatter(1.0))\n",
    "\n",
    "plt.xlabel(\"Minimum Detectable Effect (percentage point)\")\n",
    "plt.ylabel(\"Power at current N\")\n",
    "plt.title(\"Power vs. MDE at Current Sample Size\")\n",
    "plt.tight_layout()\n",
    "plt.show()"
   ]
  },
  {
   "cell_type": "markdown",
   "id": "85357df4",
   "metadata": {},
   "source": [
    "The curve crosses 80% power near the computed MDE."
   ]
  },
  {
   "cell_type": "markdown",
   "id": "eb1377bb",
   "metadata": {},
   "source": [
    "MDE vs. N per group plot (balanced at 80% power)"
   ]
  },
  {
   "cell_type": "code",
   "execution_count": 71,
   "id": "a65af844",
   "metadata": {},
   "outputs": [
    {
     "data": {
      "image/png": "[encoded data removed]",
      "text/plain": [
       "<Figure size 1000x600 with 1 Axes>"
      ]
     },
     "metadata": {},
     "output_type": "display_data"
    }
   ],
   "source": [
    "# Plot — MDE vs n per group (balanced @ 80% power)\n",
    "n_values = np.linspace(5_000, 150_000, 60)  # per-group sizes for planning\n",
    "pp = []\n",
    "for n in n_values:\n",
    "    effectsize_required = power_analysis.solve_power(\n",
    "        effect_size=None,\n",
    "        nobs1=n,\n",
    "        alpha=alpha,\n",
    "        power=power,\n",
    "        ratio=ratio,\n",
    "        alternative=\"two-sided\",\n",
    "    )\n",
    "    p1_required = h_to_p1(\n",
    "        effectsize_required, p0\n",
    "    )  # invert h to get p1, then convert to pp uplift\n",
    "    pp.append((p1_required - p0) * 100)\n",
    "\n",
    "plt.plot(n_values, pp, color=\"#6B46C1\", linewidth=2)\n",
    "\n",
    "plt.scatter([N], [mde_pp_current], color=\"#3182CE\", zorder=5)\n",
    "plt.text(\n",
    "    N + 25000,\n",
    "    mde_pp_current + 0.1,\n",
    "    f\"Current N = {N}, MDE = {mde_pp_current:.2f} pp\",\n",
    "    ha=\"center\",\n",
    "    color=\"#3182CE\",\n",
    ")\n",
    "\n",
    "plt.xlabel(\"N per Group\")\n",
    "plt.ylabel(\"MDE (percentage points)\")\n",
    "plt.title(\"MDE vs. Sample Size per Group at 80% Power\")\n",
    "plt.tight_layout()\n",
    "plt.show()"
   ]
  },
  {
   "cell_type": "markdown",
   "id": "354344ab",
   "metadata": {},
   "source": [
    "#### Interpretation\n",
    "\n",
    "While the experiment design aims for 80% power with 1.0 pp MDE, at the current sample size the experiment can detect a more sensitive MDE of 0.74 pp."
   ]
  },
  {
   "cell_type": "markdown",
   "id": "52287819",
   "metadata": {},
   "source": [
    "### 6. Primary metric analysis: day-7 retention"
   ]
  },
  {
   "cell_type": "code",
   "execution_count": 72,
   "id": "d6c34fbd",
   "metadata": {},
   "outputs": [
    {
     "name": "stdout",
     "output_type": "stream",
     "text": [
      "Control group (gate_30) size: 44700\n",
      "Treatment group (gate_40) size: 45489\n",
      "Control group (gate_30) day-7 retention rate: 0.190201 (95% CI [0.186590, 0.193866])\n",
      "Treatment group (gate_40) day-7 retention rate: 0.182000 (95% CI [0.178481, 0.185573])\n",
      "z = 3.164359, p-value = 0.001554\n",
      "Absolute difference: -0.820130 pp (95% CI [-1.328, -0.312] pp)\n",
      "Relative difference: -4.31%\n",
      "Effect size (Cohen's h): 0.021074\n"
     ]
    }
   ],
   "source": [
    "# Group sizes (gate_30 and gate_40)\n",
    "print(f\"Control group (gate_30) size: {control_players}\")\n",
    "print(f\"Treatment group (gate_40) size: {treatment_players}\")\n",
    "\n",
    "# Successes = players retained at day-7\n",
    "success_ctrl_ret7 = cookie_df[cookie_df[\"version\"] == \"gate_30\"][\"retention_7\"].sum()\n",
    "success_treat_ret7 = cookie_df[cookie_df[\"version\"] == \"gate_40\"][\"retention_7\"].sum()\n",
    "\n",
    "successes = [success_ctrl_ret7, success_treat_ret7]\n",
    "nobs = [control_players, treatment_players]\n",
    "\n",
    "# Two-proportion z-test\n",
    "z_stat_ret7, pval_ret7 = proportions_ztest(successes, nobs, alternative=\"two-sided\")\n",
    "\n",
    "# Confidence intervals for each group\n",
    "(ci_ctrl_low_ret7, ci_ctrl_high_ret7) = proportion_confint(\n",
    "    success_ctrl_ret7, control_players, alpha=alpha, method=\"wilson\"\n",
    ")\n",
    "(ci_treat_low_ret7, ci_treat_high_ret7) = proportion_confint(\n",
    "    success_treat_ret7, treatment_players, alpha=alpha, method=\"wilson\"\n",
    ")\n",
    "\n",
    "# Calculate observed proportions and difference\n",
    "prop_ctrl_ret7 = success_ctrl_ret7 / control_players\n",
    "prop_treat_ret7 = success_treat_ret7 / treatment_players\n",
    "delta_ret7 = prop_treat_ret7 - prop_ctrl_ret7\n",
    "delta_pp_ret7 = delta_ret7 * 100\n",
    "\n",
    "# Confidence intervals for the difference\n",
    "(ci_low_delta7, ci_high_delta7) = confint_proportions_2indep(\n",
    "    success_treat_ret7,\n",
    "    treatment_players,\n",
    "    success_ctrl_ret7,\n",
    "    control_players,\n",
    "    method=\"score\",\n",
    ")\n",
    "\n",
    "# Calculate relative change\n",
    "rel_pct_ret7 = (prop_treat_ret7 / prop_ctrl_ret7 - 1) * 100\n",
    "\n",
    "# Cohen's h\n",
    "p1 = cookie_df[cookie_df[\"version\"] == \"gate_40\"][\"retention_7\"].mean()\n",
    "h = proportion_effectsize(p0, p1)\n",
    "\n",
    "print(\n",
    "    f\"Control group (gate_30) day-7 retention rate: {prop_ctrl_ret7:.6f} (95% CI [{ci_ctrl_low_ret7:.6f}, {ci_ctrl_high_ret7:.6f}])\"\n",
    ")\n",
    "print(\n",
    "    f\"Treatment group (gate_40) day-7 retention rate: {prop_treat_ret7:.6f} (95% CI [{ci_treat_low_ret7:.6f}, {ci_treat_high_ret7:.6f}])\"\n",
    ")\n",
    "print(f\"z = {z_stat_ret7:.6f}, p-value = {pval_ret7:.6f}\")\n",
    "print(\n",
    "    f\"Absolute difference: {delta_pp_ret7:.6f} pp (95% CI [{ci_low_delta7 * 100:.3f}, {ci_high_delta7 * 100:.3f}] pp)\"\n",
    ")\n",
    "print(f\"Relative difference: {rel_pct_ret7:.2f}%\")\n",
    "print(f\"Effect size (Cohen's h): {h:.6f}\")"
   ]
  },
  {
   "cell_type": "markdown",
   "id": "c7afe187",
   "metadata": {},
   "source": [
    "##### Interpretation\n",
    "\n",
    "p < 0.05 indicates statistical significance, meaning that there is indeed a difference between gate level versions. The effect is -0.82 pp, which is lower than the pre-specified MDE of 1.0 pp, but Cohen's h = 0.02 indicates a small effect size. In other words, the treatment (``gate_40``) hurts retention relative to control (``gate_30``), albeit in a negligible magnitude."
   ]
  },
  {
   "cell_type": "markdown",
   "id": "669e2465",
   "metadata": {},
   "source": [
    "### 7. Guardrail metrics analyses: day-1 retention & game rounds"
   ]
  },
  {
   "cell_type": "markdown",
   "id": "e74a1dfe",
   "metadata": {},
   "source": [
    "#### 7.1 Day-1 retention"
   ]
  },
  {
   "cell_type": "code",
   "execution_count": 73,
   "id": "ee540bcc",
   "metadata": {},
   "outputs": [
    {
     "name": "stdout",
     "output_type": "stream",
     "text": [
      "Control group (gate_30) size: 44700\n",
      "Treatment group (gate_40) size: 45489\n",
      "Control group (gate_30) day-1 retention rate: 0.448188 95% CI [0.443582, 0.452802]\n",
      "Treatment group (gate_40) day-1 retention rate: 0.442283 95% CI [0.437724, 0.446851]\n",
      "Difference in day-1 retention: -0.590517 pp\n",
      "z = 1.784086, p-value = 0.074410\n"
     ]
    }
   ],
   "source": [
    "# Group sizes (gate_30 and gate_40)\n",
    "print(f\"Control group (gate_30) size: {control_players}\")\n",
    "print(f\"Treatment group (gate_40) size: {treatment_players}\")\n",
    "\n",
    "# Successes = players retained at day-1\n",
    "success_ctrl_ret1 = cookie_df[cookie_df[\"version\"] == \"gate_30\"][\"retention_1\"].sum()\n",
    "success_treat_ret1 = cookie_df[cookie_df[\"version\"] == \"gate_40\"][\"retention_1\"].sum()\n",
    "\n",
    "successes = [success_ctrl_ret1, success_treat_ret1]\n",
    "nobs = [control_players, treatment_players]\n",
    "\n",
    "# Two-proportion z-test\n",
    "z_stat_ret1, pval_ret1 = proportions_ztest(successes, nobs, alternative=\"two-sided\")\n",
    "\n",
    "# Confidence intervals for each group\n",
    "(ci_ctrl_low_ret1, ci_ctrl_high_ret1) = proportion_confint(\n",
    "    success_ctrl_ret1, control_players, alpha=alpha, method=\"wilson\"\n",
    ")\n",
    "(ci_treat_low_ret1, ci_treat_high_ret1) = proportion_confint(\n",
    "    success_treat_ret1, treatment_players, alpha=alpha, method=\"wilson\"\n",
    ")\n",
    "\n",
    "# Calculate observed proportions and difference\n",
    "prop_ctrl_ret1 = success_ctrl_ret1 / control_players\n",
    "prop_treat_ret1 = success_treat_ret1 / treatment_players\n",
    "delta_ret1 = prop_treat_ret1 - prop_ctrl_ret1\n",
    "delta_pp_ret1 = delta_ret1 * 100\n",
    "\n",
    "# Confidence intervals for the difference\n",
    "(ci_low_delta1, ci_high_delta1) = confint_proportions_2indep(\n",
    "    success_treat_ret1,\n",
    "    treatment_players,\n",
    "    success_ctrl_ret1,\n",
    "    control_players,\n",
    "    method=\"score\",\n",
    ")\n",
    "\n",
    "print(\n",
    "    f\"Control group (gate_30) day-1 retention rate: {prop_ctrl_ret1:.6f} 95% CI [{ci_ctrl_low_ret1:.6f}, {ci_ctrl_high_ret1:.6f}]\"\n",
    ")\n",
    "print(\n",
    "    f\"Treatment group (gate_40) day-1 retention rate: {prop_treat_ret1:.6f} 95% CI [{ci_treat_low_ret1:.6f}, {ci_treat_high_ret1:.6f}]\"\n",
    ")\n",
    "print(f\"Difference in day-1 retention: {delta_pp_ret1:.6f} pp\")\n",
    "print(f\"z = {z_stat_ret1:.6f}, p-value = {pval_ret1:.6f}\")"
   ]
  },
  {
   "cell_type": "markdown",
   "id": "2c4f6f2e",
   "metadata": {},
   "source": [
    "##### Interpretation\n",
    "\n",
    "Indicated by a large p=0.074410, there may be no statistically significant difference between experiment groups in day-1 retention."
   ]
  },
  {
   "cell_type": "markdown",
   "id": "d6af09b8",
   "metadata": {},
   "source": [
    "#### 7.2 Game rounds\n",
    "\n",
    "Heavy-tailed (right / positive skew), non-parametric + log-transform"
   ]
  },
  {
   "cell_type": "code",
   "execution_count": 74,
   "id": "ff50d823",
   "metadata": {},
   "outputs": [
    {
     "name": "stdout",
     "output_type": "stream",
     "text": [
      "Control (gate_30) mean: 52.46, median: 17.00\n",
      "Treatment (gate_40) mean: 51.30, median: 16.00\n",
      "Mann-Whitney U statistic: 1024331250, p-value: 0.050209\n",
      "Absoulute difference in mean game rounds: -1.16\n"
     ]
    }
   ],
   "source": [
    "# Game rounds played per version\n",
    "rounds_ctrl = cookie_df[cookie_df[\"version\"] == \"gate_30\"][\"sum_gamerounds\"]\n",
    "rounds_treat = cookie_df[cookie_df[\"version\"] == \"gate_40\"][\"sum_gamerounds\"]\n",
    "\n",
    "# Mann-Whitney U test\n",
    "u_stat, pval_rounds = mannwhitneyu(rounds_ctrl, rounds_treat, alternative=\"two-sided\")\n",
    "\n",
    "# Engagement statistics for context\n",
    "mean_ctrl = rounds_ctrl.mean()\n",
    "median_ctrl = rounds_ctrl.median()\n",
    "mean_treat = rounds_treat.mean()\n",
    "median_treat = rounds_treat.median()\n",
    "delta_mean = mean_treat - mean_ctrl\n",
    "\n",
    "print(f\"Control (gate_30) mean: {mean_ctrl:.2f}, median: {median_ctrl:.2f}\")\n",
    "print(f\"Treatment (gate_40) mean: {mean_treat:.2f}, median: {median_treat:.2f}\")\n",
    "print(f\"Mann-Whitney U statistic: {u_stat:.0f}, p-value: {pval_rounds:.6f}\")\n",
    "print(f\"Absoulute difference in mean game rounds: {delta_mean:.2f}\")"
   ]
  },
  {
   "cell_type": "code",
   "execution_count": 75,
   "id": "38eec39f",
   "metadata": {},
   "outputs": [
    {
     "name": "stdout",
     "output_type": "stream",
     "text": [
      "Welch's t-test on log-transformed rounds t-statistic = 1.814246, p-value = 0.069643\n",
      "Control (gate_30) log mean = 2.888910\n",
      "Treatment (gate_40) log mean = 2.870742\n"
     ]
    }
   ],
   "source": [
    "# Transform game rounds\n",
    "log_ctrl = np.log1p(rounds_ctrl)\n",
    "log_treat = np.log1p(rounds_treat)\n",
    "\n",
    "# Welch's t-test (unequal variances)\n",
    "tstat_log, pval_log = ttest_ind(\n",
    "    log_ctrl, log_treat, equal_var=False, alternative=\"two-sided\"\n",
    ")\n",
    "\n",
    "print(\n",
    "    f\"Welch's t-test on log-transformed rounds t-statistic = {tstat_log:6f}, p-value = {pval_log:6f}\"\n",
    ")\n",
    "print(f\"Control (gate_30) log mean = {log_ctrl.mean():6f}\")\n",
    "print(f\"Treatment (gate_40) log mean = {log_treat.mean():6f}\")"
   ]
  },
  {
   "cell_type": "markdown",
   "id": "e9bd7b51",
   "metadata": {},
   "source": [
    "Bootstrap 95% CI for mean difference"
   ]
  },
  {
   "cell_type": "code",
   "execution_count": 76,
   "id": "ffcb9ec8",
   "metadata": {},
   "outputs": [
    {
     "name": "stdout",
     "output_type": "stream",
     "text": [
      "Mean difference: -1.16\n",
      "Bootstrap 95% CI for mean difference: [-1.04, 4.05]\n"
     ]
    }
   ],
   "source": [
    "# Simple percentile bootstrap for the mean difference on the raw scale\n",
    "np.random.seed(42)\n",
    "B = 5000\n",
    "boot_diffs = []\n",
    "\n",
    "for i in range(B):\n",
    "    # Resample with replacement from both groups\n",
    "    ctrl_sample_mean = rounds_ctrl.sample(n=len(rounds_ctrl), replace=True).mean()\n",
    "    treat_sample_mean = rounds_treat.sample(n=len(rounds_treat), replace=True).mean()\n",
    "    boot_diffs.append(ctrl_sample_mean - treat_sample_mean)\n",
    "\n",
    "boot_diffs = np.array(boot_diffs)\n",
    "ci_low, ci_high = np.percentile(boot_diffs, [2.5, 97.5])\n",
    "obs_diff = rounds_treat.mean() - rounds_ctrl.mean()\n",
    "\n",
    "print(f\"Mean difference: {obs_diff:.2f}\")\n",
    "print(f\"Bootstrap 95% CI for mean difference: [{ci_low:.2f}, {ci_high:.2f}]\")"
   ]
  },
  {
   "cell_type": "markdown",
   "id": "16eb3b6b",
   "metadata": {},
   "source": [
    "##### Interpretation\n",
    "\n",
    "Across all three methods (MWU, Welch t, bootstrap CI), results consistently demonstrate:\n",
    "- No significant difference between ``gate_30`` and ``gate_40`` in game rounds played.\n",
    "- Effect size is negligible in practice (less than ±1–2 rounds out of ~50 average).\n",
    "- In other words, changing the gate does not affect overall engagement measured by total rounds played."
   ]
  },
  {
   "cell_type": "markdown",
   "id": "cfe41d4a",
   "metadata": {},
   "source": [
    "### 8. Multiple testing correction"
   ]
  },
  {
   "cell_type": "code",
   "execution_count": 77,
   "id": "6ecd3165",
   "metadata": {},
   "outputs": [
    {
     "name": "stdout",
     "output_type": "stream",
     "text": [
      "Significant tests: [False False False]\n",
      "Corrected p-values: [0.15062642 0.15062642 0.15062642]\n"
     ]
    }
   ],
   "source": [
    "# Guardrail p-values\n",
    "guardrail_unadj = [pval_ret1, pval_rounds, pval_log]\n",
    "\n",
    "# Perform Holm correction\n",
    "guardrail_adj = multipletests(guardrail_unadj, alpha=alpha, method=\"holm\")\n",
    "\n",
    "print(f\"Significant tests: {guardrail_adj[0]}\")\n",
    "print(f\"Corrected p-values: {guardrail_adj[1]}\")"
   ]
  },
  {
   "cell_type": "markdown",
   "id": "9fd64750",
   "metadata": {},
   "source": [
    "### 9. Results summary table"
   ]
  },
  {
   "cell_type": "code",
   "execution_count": 78,
   "id": "b2359be6",
   "metadata": {},
   "outputs": [],
   "source": [
    "# Prepare results for reporting\n",
    "results_df = pd.DataFrame(\n",
    "    [\n",
    "        {\n",
    "            \"Metric\": \"Day-7 Retention (Primary)\",\n",
    "            \"Control (gate_30)\": f\"{prop_ctrl_ret7:.2f} 95% CI [{ci_ctrl_low_ret7:.4f}, {ci_ctrl_high_ret7:.4f}]\",\n",
    "            \"Treatment (gate_40)\": f\"{prop_treat_ret7:.2f} 95% CI [{ci_treat_low_ret7:.4f}, {ci_treat_high_ret7:.4f}]\",\n",
    "            \"Absolute Δ\": f\"{delta_pp_ret7:.2f} pp [{ci_low_delta7 * 100:.2f}, {ci_high_delta7 * 100:.2f}]\",\n",
    "            \"Statistic\": f\"z = {z_stat_ret7:.6f}\",\n",
    "            \"p-value\": pval_ret7, \n",
    "            \"Adjusted p-value\": None,\n",
    "            \"Notes\": f\"Relative Δ: {rel_pct_ret7:.2f}%, Cohen's h: {h:.6f}\",\n",
    "        },\n",
    "        {\n",
    "            \"Metric\": \"Day-1 Retention\",\n",
    "            \"Control (gate_30)\": f\"{prop_ctrl_ret1:.2f} 95% CI [{ci_ctrl_low_ret1:.4f}, {ci_ctrl_high_ret1:.4f}]\",\n",
    "            \"Treatment (gate_40)\": f\"{prop_treat_ret1:.2f} 95% CI [{ci_treat_low_ret1:.4f}, {ci_treat_high_ret1:.4f}]\",\n",
    "            \"Absolute Δ\": f\"{delta_pp_ret1:.2f} pp [{ci_low_delta1 * 100:.2f}, {ci_high_delta1 * 100:.2f}]\",\n",
    "            \"Statistic\": f\"z = {z_stat_ret1:.6f}\",\n",
    "            \"p-value\": pval_ret1,\n",
    "            \"Adjusted p-value\": guardrail_adj[1][0],\n",
    "            \"Notes\": \"Holm-adjusted within guardrail family\",\n",
    "        },\n",
    "        {\n",
    "            \"Metric\": \"Game rounds (MWU)\",\n",
    "            \"Control (gate_30)\": f\"mean = {mean_ctrl:.2f}, median = {median_ctrl:.2f}\",\n",
    "            \"Treatment (gate_40)\": f\"mean = {mean_treat:.2f}, median = {median_treat:.2f}\",\n",
    "            \"Absolute Δ\": f\"{delta_mean:.2f}\",\n",
    "            \"Statistic\": f\"U = {u_stat:.0f}\",\n",
    "            \"p-value\": pval_rounds,\n",
    "            \"Adjusted p-value\": guardrail_adj[1][1],\n",
    "            \"Notes\": \"Heavy-tailed, non-parametric\",\n",
    "        },\n",
    "        {\n",
    "            \"Metric\": \"Game rounds (log1p, Welch t)\",\n",
    "            \"Control (gate_30)\": f\"mean = {log_ctrl.mean():.4f}\",\n",
    "            \"Treatment (gate_40)\": f\"mean = {log_treat.mean():.4f}\",\n",
    "            \"Absolute Δ\": None,\n",
    "            \"Statistic\": f\"t = {tstat_log:.4f}\",\n",
    "            \"p-value\": pval_log,\n",
    "            \"Adjusted p-value\": guardrail_adj[1][2],\n",
    "            \"Notes\": \"Log scale to normalize distribution\",\n",
    "        },\n",
    "        {\n",
    "            \"Metric\": \"Bootstrap delta mean rounds\",\n",
    "            \"Control (gate_30)\": f\"{ctrl_sample_mean:.2f}\",\n",
    "            \"Treatment (gate_40)\": f\"{treat_sample_mean:.2f}\",\n",
    "            \"Absolute Δ\": f\"{obs_diff:.2f}\",\n",
    "            \"Statistic\": f\"95% CI for mean difference: [{ci_low:.2f}, {ci_high:.2f}]\",\n",
    "            \"p-value\": None,\n",
    "            \"Adjusted p-value\": None,\n",
    "            \"Notes\": \"\",\n",
    "        },\n",
    "    ]\n",
    ")"
   ]
  },
  {
   "cell_type": "code",
   "execution_count": 79,
   "id": "95968dd7",
   "metadata": {},
   "outputs": [
    {
     "data": {
      "text/html": [
       "<div>\n",
       "<style scoped>\n",
       "    .dataframe tbody tr th:only-of-type {\n",
       "        vertical-align: middle;\n",
       "    }\n",
       "\n",
       "    .dataframe tbody tr th {\n",
       "        vertical-align: top;\n",
       "    }\n",
       "\n",
       "    .dataframe thead th {\n",
       "        text-align: right;\n",
       "    }\n",
       "</style>\n",
       "<table border=\"1\" class=\"dataframe\">\n",
       "  <thead>\n",
       "    <tr style=\"text-align: right;\">\n",
       "      <th></th>\n",
       "      <th>Metric</th>\n",
       "      <th>Control (gate_30)</th>\n",
       "      <th>Treatment (gate_40)</th>\n",
       "      <th>Absolute Δ</th>\n",
       "      <th>Statistic</th>\n",
       "      <th>p-value</th>\n",
       "      <th>Adjusted p-value</th>\n",
       "      <th>Notes</th>\n",
       "    </tr>\n",
       "  </thead>\n",
       "  <tbody>\n",
       "    <tr>\n",
       "      <th>0</th>\n",
       "      <td>Day-7 Retention (Primary)</td>\n",
       "      <td>0.19 95% CI [0.1866, 0.1939]</td>\n",
       "      <td>0.18 95% CI [0.1785, 0.1856]</td>\n",
       "      <td>-0.82 pp [-1.33, -0.31]</td>\n",
       "      <td>z = 3.164359</td>\n",
       "      <td>0.001554</td>\n",
       "      <td>NaN</td>\n",
       "      <td>Relative Δ: -4.31%, Cohen's h: 0.021074</td>\n",
       "    </tr>\n",
       "    <tr>\n",
       "      <th>1</th>\n",
       "      <td>Day-1 Retention</td>\n",
       "      <td>0.45 95% CI [0.4436, 0.4528]</td>\n",
       "      <td>0.44 95% CI [0.4377, 0.4469]</td>\n",
       "      <td>-0.59 pp [-1.24, 0.06]</td>\n",
       "      <td>z = 1.784086</td>\n",
       "      <td>0.074410</td>\n",
       "      <td>0.150626</td>\n",
       "      <td>Holm-adjusted within guardrail family</td>\n",
       "    </tr>\n",
       "    <tr>\n",
       "      <th>2</th>\n",
       "      <td>Game rounds (MWU)</td>\n",
       "      <td>mean = 52.46, median = 17.00</td>\n",
       "      <td>mean = 51.30, median = 16.00</td>\n",
       "      <td>-1.16</td>\n",
       "      <td>U = 1024331250</td>\n",
       "      <td>0.050209</td>\n",
       "      <td>0.150626</td>\n",
       "      <td>Heavy-tailed, non-parametric</td>\n",
       "    </tr>\n",
       "    <tr>\n",
       "      <th>3</th>\n",
       "      <td>Game rounds (log1p, Welch t)</td>\n",
       "      <td>mean = 2.8889</td>\n",
       "      <td>mean = 2.8707</td>\n",
       "      <td>None</td>\n",
       "      <td>t = 1.8142</td>\n",
       "      <td>0.069643</td>\n",
       "      <td>0.150626</td>\n",
       "      <td>Log scale to normalize distribution</td>\n",
       "    </tr>\n",
       "    <tr>\n",
       "      <th>4</th>\n",
       "      <td>Bootstrap delta mean rounds</td>\n",
       "      <td>52.91</td>\n",
       "      <td>51.39</td>\n",
       "      <td>-1.16</td>\n",
       "      <td>95% CI for mean difference: [-1.04, 4.05]</td>\n",
       "      <td>NaN</td>\n",
       "      <td>NaN</td>\n",
       "      <td></td>\n",
       "    </tr>\n",
       "  </tbody>\n",
       "</table>\n",
       "</div>"
      ],
      "text/plain": [
       "                         Metric             Control (gate_30)  \\\n",
       "0     Day-7 Retention (Primary)  0.19 95% CI [0.1866, 0.1939]   \n",
       "1               Day-1 Retention  0.45 95% CI [0.4436, 0.4528]   \n",
       "2             Game rounds (MWU)  mean = 52.46, median = 17.00   \n",
       "3  Game rounds (log1p, Welch t)                 mean = 2.8889   \n",
       "4   Bootstrap delta mean rounds                         52.91   \n",
       "\n",
       "            Treatment (gate_40)               Absolute Δ  \\\n",
       "0  0.18 95% CI [0.1785, 0.1856]  -0.82 pp [-1.33, -0.31]   \n",
       "1  0.44 95% CI [0.4377, 0.4469]   -0.59 pp [-1.24, 0.06]   \n",
       "2  mean = 51.30, median = 16.00                    -1.16   \n",
       "3                 mean = 2.8707                     None   \n",
       "4                         51.39                    -1.16   \n",
       "\n",
       "                                   Statistic   p-value  Adjusted p-value  \\\n",
       "0                               z = 3.164359  0.001554               NaN   \n",
       "1                               z = 1.784086  0.074410          0.150626   \n",
       "2                             U = 1024331250  0.050209          0.150626   \n",
       "3                                 t = 1.8142  0.069643          0.150626   \n",
       "4  95% CI for mean difference: [-1.04, 4.05]       NaN               NaN   \n",
       "\n",
       "                                     Notes  \n",
       "0  Relative Δ: -4.31%, Cohen's h: 0.021074  \n",
       "1    Holm-adjusted within guardrail family  \n",
       "2             Heavy-tailed, non-parametric  \n",
       "3      Log scale to normalize distribution  \n",
       "4                                           "
      ]
     },
     "execution_count": 79,
     "metadata": {},
     "output_type": "execute_result"
    }
   ],
   "source": [
    "results_df"
   ]
  },
  {
   "cell_type": "code",
   "execution_count": 80,
   "id": "f25eb0b9",
   "metadata": {},
   "outputs": [
    {
     "name": "stdout",
     "output_type": "stream",
     "text": [
      "Decision: Significant but below MDE, do not roll out\n"
     ]
    }
   ],
   "source": [
    "def decide(pval_ret7, delta_pp_ret7, mde_pp, alpha):\n",
    "    if pval_ret7 < alpha:\n",
    "        if delta_pp_ret7 >= mde_pp:\n",
    "            return \"Roll out\"\n",
    "        if delta_pp_ret7 <= -mde_pp:\n",
    "            return \"Do not roll out, treatment harmful beyond MDE\"\n",
    "        return \"Significant but below MDE, do not roll out\"\n",
    "    return \"No effect, do not roll out\"\n",
    "\n",
    "\n",
    "print(\"Decision:\", decide(pval_ret7, delta_pp_ret7, mde_pp, alpha))"
   ]
  },
  {
   "cell_type": "markdown",
   "id": "8fb490bf",
   "metadata": {},
   "source": [
    "### 10. Business impact projection"
   ]
  },
  {
   "cell_type": "code",
   "execution_count": 81,
   "id": "3f8058db",
   "metadata": {},
   "outputs": [
    {
     "name": "stdout",
     "output_type": "stream",
     "text": [
      "Retained players at Day-7 per 100,000 new players: -820 [-1328, -312]\n",
      "Approximate revenue impact per 100,000 players: $-410\n"
     ]
    }
   ],
   "source": [
    "# Calculate the number of retained players at Day-7 per 100,000 new players\n",
    "K = 100_000\n",
    "\n",
    "delta_retained = K * (prop_treat_ret7 - prop_ctrl_ret7)\n",
    "ci_players = (K * ci_low_delta7, K * ci_high_delta7)\n",
    "print(\n",
    "    f\"Retained players at Day-7 per {K:,} new players: {delta_retained:.0f} [{ci_players[0]:.0f}, {ci_players[1]:.0f}]\"\n",
    ")\n",
    "\n",
    "# Calculate the approximate revenue impact per 100,000 new players\n",
    "ARPU_7 = 0.50\n",
    "print(f\"Approximate revenue impact per {K:,} players: ${delta_retained * ARPU_7:.0f}\")"
   ]
  },
  {
   "cell_type": "markdown",
   "id": "0f6a4690",
   "metadata": {},
   "source": [
    "### 11. Conclusion\n",
    "- **Primary Metric**: Moving the gate from level 30 to level 40 **reduces Day-7 retention by 0.82 percentage points**\n",
    "- **Statistical Significance**: Highly significant (p = 0.0016)\n",
    "- **Effect**: Below the pre-specified MDE threshold of 1.0 percentage points\n",
    "\n",
    "**Decision:**\n",
    "**Do not roll out** the treatment. While the effect is statistically significant, it fails to meet the business threshold for implementation and actually harms retention."
   ]
  },
  {
   "cell_type": "markdown",
   "id": "2a01ea3e",
   "metadata": {},
   "source": [
    "#### 11.1 Limitations & next steps\n",
    "\n",
    "- **No timestamps in dataset:** cannot perform time-to-event analysis.\n",
    "- **No covariates:** cannot adjust for potential confounding or run subgroup analysis.\n",
    "- **No exposure flag:** results are population estimates, effect may be diluted if many users never reach the gate.\n",
    "- **No revenue data:** business-impact projection is illustrative and requires real ARPU values."
   ]
  },
  {
   "cell_type": "code",
   "execution_count": null,
   "id": "391eed7a",
   "metadata": {},
   "outputs": [],
   "source": [
    "# Save the results table to a CSV file\n",
    "# results_df.to_csv(r\"reports/results_table.csv\", index=False)"
   ]
  }
 ],
 "metadata": {
  "kernelspec": {
   "display_name": ".venv",
   "language": "python",
   "name": "python3"
  },
  "language_info": {
   "codemirror_mode": {
    "name": "ipython",
    "version": 3
   },
   "file_extension": ".py",
   "mimetype": "text/x-python",
   "name": "python",
   "nbconvert_exporter": "python",
   "pygments_lexer": "ipython3",
   "version": "3.11.3"
  }
 },
 "nbformat": 4,
 "nbformat_minor": 5
}
